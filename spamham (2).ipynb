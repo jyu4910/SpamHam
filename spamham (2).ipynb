{
 "cells": [
  {
   "cell_type": "code",
   "execution_count": 1,
   "metadata": {
    "_cell_guid": "b1076dfc-b9ad-4769-8c92-a6c4dae69d19",
    "_uuid": "8f2839f25d086af736a60e9eeb907d3b93b6e0e5"
   },
   "outputs": [],
   "source": [
    "# This Python 3 environment comes with many helpful analytics libraries installed\n",
    "# It is defined by the kaggle/python Docker image: https://github.com/kaggle/docker-python\n",
    "# For example, here's several helpful packages to load\n",
    "\n",
    "import numpy as np # linear algebra\n",
    "import pandas as pd # data processing, CSV file I/O (e.g. pd.read_csv)\n",
    "\n",
    "# Input data files are available in the read-only \"../input/\" directory\n",
    "# For example, running this (by clicking run or pressing Shift+Enter) will list all files under the input directory\n",
    "\n",
    "import os\n",
    "for dirname, _, filenames in os.walk('/kaggle/input'):\n",
    "    for filename in filenames:\n",
    "        print(os.path.join(dirname, filename))\n",
    "\n",
    "# You can write up to 5GB to the current directory (/kaggle/working/) that gets preserved as output when you create a version using \"Save & Run All\" \n",
    "# You can also write temporary files to /kaggle/temp/, but they won't be saved outside of the current session"
   ]
  },
  {
   "cell_type": "code",
   "execution_count": 2,
   "metadata": {
    "_cell_guid": "79c7e3d0-c299-4dcb-8224-4455121ee9b0",
    "_uuid": "d629ff2d2480ee46fbb7e2d37f6b5fab8052498a"
   },
   "outputs": [
    {
     "data": {
      "text/html": [
       "<div>\n",
       "<style scoped>\n",
       "    .dataframe tbody tr th:only-of-type {\n",
       "        vertical-align: middle;\n",
       "    }\n",
       "\n",
       "    .dataframe tbody tr th {\n",
       "        vertical-align: top;\n",
       "    }\n",
       "\n",
       "    .dataframe thead th {\n",
       "        text-align: right;\n",
       "    }\n",
       "</style>\n",
       "<table border=\"1\" class=\"dataframe\">\n",
       "  <thead>\n",
       "    <tr style=\"text-align: right;\">\n",
       "      <th></th>\n",
       "      <th>label</th>\n",
       "      <th>raw text</th>\n",
       "    </tr>\n",
       "  </thead>\n",
       "  <tbody>\n",
       "    <tr>\n",
       "      <th>0</th>\n",
       "      <td>ham</td>\n",
       "      <td>Go until jurong point, crazy.. Available only ...</td>\n",
       "    </tr>\n",
       "    <tr>\n",
       "      <th>1</th>\n",
       "      <td>ham</td>\n",
       "      <td>Ok lar... Joking wif u oni...</td>\n",
       "    </tr>\n",
       "    <tr>\n",
       "      <th>2</th>\n",
       "      <td>spam</td>\n",
       "      <td>Free entry in 2 a wkly comp to win FA Cup fina...</td>\n",
       "    </tr>\n",
       "    <tr>\n",
       "      <th>3</th>\n",
       "      <td>ham</td>\n",
       "      <td>U dun say so early hor... U c already then say...</td>\n",
       "    </tr>\n",
       "    <tr>\n",
       "      <th>4</th>\n",
       "      <td>ham</td>\n",
       "      <td>Nah I don't think he goes to usf, he lives aro...</td>\n",
       "    </tr>\n",
       "  </tbody>\n",
       "</table>\n",
       "</div>"
      ],
      "text/plain": [
       "  label                                           raw text\n",
       "0   ham  Go until jurong point, crazy.. Available only ...\n",
       "1   ham                      Ok lar... Joking wif u oni...\n",
       "2  spam  Free entry in 2 a wkly comp to win FA Cup fina...\n",
       "3   ham  U dun say so early hor... U c already then say...\n",
       "4   ham  Nah I don't think he goes to usf, he lives aro..."
      ]
     },
     "execution_count": 2,
     "metadata": {},
     "output_type": "execute_result"
    }
   ],
   "source": [
    "data = pd.read_csv(\"datasets_483_982_spam.csv\", encoding='latin-1')\n",
    "data.dropna(how=\"any\", inplace=True, axis=1)\n",
    "data.rename(columns = {\"v1\":\"label\", \"v2\":\"raw text\"}, inplace = True)\n",
    "data.head()"
   ]
  },
  {
   "cell_type": "code",
   "execution_count": 3,
   "metadata": {},
   "outputs": [
    {
     "data": {
      "text/plain": [
       "label       0\n",
       "raw text    0\n",
       "dtype: int64"
      ]
     },
     "execution_count": 3,
     "metadata": {},
     "output_type": "execute_result"
    }
   ],
   "source": [
    "data.isna().sum()"
   ]
  },
  {
   "cell_type": "code",
   "execution_count": 4,
   "metadata": {},
   "outputs": [
    {
     "data": {
      "text/plain": [
       "(5572, 2)"
      ]
     },
     "execution_count": 4,
     "metadata": {},
     "output_type": "execute_result"
    }
   ],
   "source": [
    "data.shape"
   ]
  },
  {
   "cell_type": "markdown",
   "metadata": {},
   "source": [
    "Make all the email lower case."
   ]
  },
  {
   "cell_type": "code",
   "execution_count": 5,
   "metadata": {},
   "outputs": [],
   "source": [
    "data['raw text'] = data['raw text'].str.lower()"
   ]
  },
  {
   "cell_type": "code",
   "execution_count": 6,
   "metadata": {},
   "outputs": [
    {
     "data": {
      "text/html": [
       "<div>\n",
       "<style scoped>\n",
       "    .dataframe tbody tr th:only-of-type {\n",
       "        vertical-align: middle;\n",
       "    }\n",
       "\n",
       "    .dataframe tbody tr th {\n",
       "        vertical-align: top;\n",
       "    }\n",
       "\n",
       "    .dataframe thead th {\n",
       "        text-align: right;\n",
       "    }\n",
       "</style>\n",
       "<table border=\"1\" class=\"dataframe\">\n",
       "  <thead>\n",
       "    <tr style=\"text-align: right;\">\n",
       "      <th></th>\n",
       "      <th>label</th>\n",
       "      <th>raw text</th>\n",
       "    </tr>\n",
       "  </thead>\n",
       "  <tbody>\n",
       "    <tr>\n",
       "      <th>0</th>\n",
       "      <td>ham</td>\n",
       "      <td>go until jurong point, crazy.. available only ...</td>\n",
       "    </tr>\n",
       "    <tr>\n",
       "      <th>1</th>\n",
       "      <td>ham</td>\n",
       "      <td>ok lar... joking wif u oni...</td>\n",
       "    </tr>\n",
       "    <tr>\n",
       "      <th>2</th>\n",
       "      <td>spam</td>\n",
       "      <td>free entry in 2 a wkly comp to win fa cup fina...</td>\n",
       "    </tr>\n",
       "    <tr>\n",
       "      <th>3</th>\n",
       "      <td>ham</td>\n",
       "      <td>u dun say so early hor... u c already then say...</td>\n",
       "    </tr>\n",
       "    <tr>\n",
       "      <th>4</th>\n",
       "      <td>ham</td>\n",
       "      <td>nah i don't think he goes to usf, he lives aro...</td>\n",
       "    </tr>\n",
       "  </tbody>\n",
       "</table>\n",
       "</div>"
      ],
      "text/plain": [
       "  label                                           raw text\n",
       "0   ham  go until jurong point, crazy.. available only ...\n",
       "1   ham                      ok lar... joking wif u oni...\n",
       "2  spam  free entry in 2 a wkly comp to win fa cup fina...\n",
       "3   ham  u dun say so early hor... u c already then say...\n",
       "4   ham  nah i don't think he goes to usf, he lives aro..."
      ]
     },
     "execution_count": 6,
     "metadata": {},
     "output_type": "execute_result"
    }
   ],
   "source": [
    "data.head()"
   ]
  },
  {
   "cell_type": "markdown",
   "metadata": {},
   "source": [
    "Create a new column that maps ham with 0 and spam with 1"
   ]
  },
  {
   "cell_type": "code",
   "execution_count": 7,
   "metadata": {},
   "outputs": [],
   "source": [
    "spam = []\n",
    "for elem in np.arange(len(data)):\n",
    "    if data['label'][elem] == 'ham':\n",
    "        spam.append(0)\n",
    "    else:\n",
    "        spam.append(1)\n",
    "data['spam'] = spam"
   ]
  },
  {
   "cell_type": "code",
   "execution_count": 8,
   "metadata": {},
   "outputs": [
    {
     "data": {
      "text/html": [
       "<div>\n",
       "<style scoped>\n",
       "    .dataframe tbody tr th:only-of-type {\n",
       "        vertical-align: middle;\n",
       "    }\n",
       "\n",
       "    .dataframe tbody tr th {\n",
       "        vertical-align: top;\n",
       "    }\n",
       "\n",
       "    .dataframe thead th {\n",
       "        text-align: right;\n",
       "    }\n",
       "</style>\n",
       "<table border=\"1\" class=\"dataframe\">\n",
       "  <thead>\n",
       "    <tr style=\"text-align: right;\">\n",
       "      <th></th>\n",
       "      <th>label</th>\n",
       "      <th>raw text</th>\n",
       "      <th>spam</th>\n",
       "    </tr>\n",
       "  </thead>\n",
       "  <tbody>\n",
       "    <tr>\n",
       "      <th>0</th>\n",
       "      <td>ham</td>\n",
       "      <td>go until jurong point, crazy.. available only ...</td>\n",
       "      <td>0</td>\n",
       "    </tr>\n",
       "    <tr>\n",
       "      <th>1</th>\n",
       "      <td>ham</td>\n",
       "      <td>ok lar... joking wif u oni...</td>\n",
       "      <td>0</td>\n",
       "    </tr>\n",
       "    <tr>\n",
       "      <th>2</th>\n",
       "      <td>spam</td>\n",
       "      <td>free entry in 2 a wkly comp to win fa cup fina...</td>\n",
       "      <td>1</td>\n",
       "    </tr>\n",
       "    <tr>\n",
       "      <th>3</th>\n",
       "      <td>ham</td>\n",
       "      <td>u dun say so early hor... u c already then say...</td>\n",
       "      <td>0</td>\n",
       "    </tr>\n",
       "    <tr>\n",
       "      <th>4</th>\n",
       "      <td>ham</td>\n",
       "      <td>nah i don't think he goes to usf, he lives aro...</td>\n",
       "      <td>0</td>\n",
       "    </tr>\n",
       "  </tbody>\n",
       "</table>\n",
       "</div>"
      ],
      "text/plain": [
       "  label                                           raw text  spam\n",
       "0   ham  go until jurong point, crazy.. available only ...     0\n",
       "1   ham                      ok lar... joking wif u oni...     0\n",
       "2  spam  free entry in 2 a wkly comp to win fa cup fina...     1\n",
       "3   ham  u dun say so early hor... u c already then say...     0\n",
       "4   ham  nah i don't think he goes to usf, he lives aro...     0"
      ]
     },
     "execution_count": 8,
     "metadata": {},
     "output_type": "execute_result"
    }
   ],
   "source": [
    "data.head()"
   ]
  },
  {
   "cell_type": "markdown",
   "metadata": {},
   "source": [
    "Create another column that has the length of the email."
   ]
  },
  {
   "cell_type": "code",
   "execution_count": 9,
   "metadata": {},
   "outputs": [
    {
     "data": {
      "text/html": [
       "<div>\n",
       "<style scoped>\n",
       "    .dataframe tbody tr th:only-of-type {\n",
       "        vertical-align: middle;\n",
       "    }\n",
       "\n",
       "    .dataframe tbody tr th {\n",
       "        vertical-align: top;\n",
       "    }\n",
       "\n",
       "    .dataframe thead th {\n",
       "        text-align: right;\n",
       "    }\n",
       "</style>\n",
       "<table border=\"1\" class=\"dataframe\">\n",
       "  <thead>\n",
       "    <tr style=\"text-align: right;\">\n",
       "      <th></th>\n",
       "      <th>label</th>\n",
       "      <th>raw text</th>\n",
       "      <th>spam</th>\n",
       "      <th>length</th>\n",
       "    </tr>\n",
       "  </thead>\n",
       "  <tbody>\n",
       "    <tr>\n",
       "      <th>0</th>\n",
       "      <td>ham</td>\n",
       "      <td>go until jurong point, crazy.. available only ...</td>\n",
       "      <td>0</td>\n",
       "      <td>111</td>\n",
       "    </tr>\n",
       "    <tr>\n",
       "      <th>1</th>\n",
       "      <td>ham</td>\n",
       "      <td>ok lar... joking wif u oni...</td>\n",
       "      <td>0</td>\n",
       "      <td>29</td>\n",
       "    </tr>\n",
       "    <tr>\n",
       "      <th>2</th>\n",
       "      <td>spam</td>\n",
       "      <td>free entry in 2 a wkly comp to win fa cup fina...</td>\n",
       "      <td>1</td>\n",
       "      <td>155</td>\n",
       "    </tr>\n",
       "    <tr>\n",
       "      <th>3</th>\n",
       "      <td>ham</td>\n",
       "      <td>u dun say so early hor... u c already then say...</td>\n",
       "      <td>0</td>\n",
       "      <td>49</td>\n",
       "    </tr>\n",
       "    <tr>\n",
       "      <th>4</th>\n",
       "      <td>ham</td>\n",
       "      <td>nah i don't think he goes to usf, he lives aro...</td>\n",
       "      <td>0</td>\n",
       "      <td>61</td>\n",
       "    </tr>\n",
       "  </tbody>\n",
       "</table>\n",
       "</div>"
      ],
      "text/plain": [
       "  label                                           raw text  spam  length\n",
       "0   ham  go until jurong point, crazy.. available only ...     0     111\n",
       "1   ham                      ok lar... joking wif u oni...     0      29\n",
       "2  spam  free entry in 2 a wkly comp to win fa cup fina...     1     155\n",
       "3   ham  u dun say so early hor... u c already then say...     0      49\n",
       "4   ham  nah i don't think he goes to usf, he lives aro...     0      61"
      ]
     },
     "execution_count": 9,
     "metadata": {},
     "output_type": "execute_result"
    }
   ],
   "source": [
    "email_len = []\n",
    "for elem in np.arange(len(data)):\n",
    "    email_len.append(len(data['raw text'][elem]))\n",
    "data['length'] = email_len\n",
    "data.head()"
   ]
  },
  {
   "cell_type": "markdown",
   "metadata": {},
   "source": [
    "Now let's split the data into train and test."
   ]
  },
  {
   "cell_type": "code",
   "execution_count": 10,
   "metadata": {},
   "outputs": [],
   "source": [
    "from sklearn.model_selection import train_test_split\n",
    "\n",
    "train, test = train_test_split(data, test_size=0.1, random_state=42)"
   ]
  },
  {
   "cell_type": "code",
   "execution_count": 11,
   "metadata": {},
   "outputs": [
    {
     "data": {
      "text/html": [
       "<div>\n",
       "<style scoped>\n",
       "    .dataframe tbody tr th:only-of-type {\n",
       "        vertical-align: middle;\n",
       "    }\n",
       "\n",
       "    .dataframe tbody tr th {\n",
       "        vertical-align: top;\n",
       "    }\n",
       "\n",
       "    .dataframe thead th {\n",
       "        text-align: right;\n",
       "    }\n",
       "</style>\n",
       "<table border=\"1\" class=\"dataframe\">\n",
       "  <thead>\n",
       "    <tr style=\"text-align: right;\">\n",
       "      <th></th>\n",
       "      <th>label</th>\n",
       "      <th>raw text</th>\n",
       "      <th>spam</th>\n",
       "      <th>length</th>\n",
       "    </tr>\n",
       "  </thead>\n",
       "  <tbody>\n",
       "    <tr>\n",
       "      <th>3130</th>\n",
       "      <td>spam</td>\n",
       "      <td>lookatme!: thanks for your purchase of a video...</td>\n",
       "      <td>1</td>\n",
       "      <td>156</td>\n",
       "    </tr>\n",
       "    <tr>\n",
       "      <th>106</th>\n",
       "      <td>ham</td>\n",
       "      <td>aight, i'll hit you up when i get some cash</td>\n",
       "      <td>0</td>\n",
       "      <td>43</td>\n",
       "    </tr>\n",
       "    <tr>\n",
       "      <th>4697</th>\n",
       "      <td>ham</td>\n",
       "      <td>don no da:)whats you plan?</td>\n",
       "      <td>0</td>\n",
       "      <td>26</td>\n",
       "    </tr>\n",
       "    <tr>\n",
       "      <th>856</th>\n",
       "      <td>ham</td>\n",
       "      <td>going to take your babe out ?</td>\n",
       "      <td>0</td>\n",
       "      <td>29</td>\n",
       "    </tr>\n",
       "    <tr>\n",
       "      <th>3454</th>\n",
       "      <td>ham</td>\n",
       "      <td>no need lar. jus testing e phone card. dunno n...</td>\n",
       "      <td>0</td>\n",
       "      <td>158</td>\n",
       "    </tr>\n",
       "  </tbody>\n",
       "</table>\n",
       "</div>"
      ],
      "text/plain": [
       "     label                                           raw text  spam  length\n",
       "3130  spam  lookatme!: thanks for your purchase of a video...     1     156\n",
       "106    ham        aight, i'll hit you up when i get some cash     0      43\n",
       "4697   ham                         don no da:)whats you plan?     0      26\n",
       "856    ham                      going to take your babe out ?     0      29\n",
       "3454   ham  no need lar. jus testing e phone card. dunno n...     0     158"
      ]
     },
     "execution_count": 11,
     "metadata": {},
     "output_type": "execute_result"
    }
   ],
   "source": [
    "train.head()"
   ]
  },
  {
   "cell_type": "code",
   "execution_count": 12,
   "metadata": {},
   "outputs": [
    {
     "data": {
      "text/html": [
       "<div>\n",
       "<style scoped>\n",
       "    .dataframe tbody tr th:only-of-type {\n",
       "        vertical-align: middle;\n",
       "    }\n",
       "\n",
       "    .dataframe tbody tr th {\n",
       "        vertical-align: top;\n",
       "    }\n",
       "\n",
       "    .dataframe thead th {\n",
       "        text-align: right;\n",
       "    }\n",
       "</style>\n",
       "<table border=\"1\" class=\"dataframe\">\n",
       "  <thead>\n",
       "    <tr style=\"text-align: right;\">\n",
       "      <th></th>\n",
       "      <th>label</th>\n",
       "      <th>raw text</th>\n",
       "      <th>spam</th>\n",
       "      <th>length</th>\n",
       "    </tr>\n",
       "  </thead>\n",
       "  <tbody>\n",
       "    <tr>\n",
       "      <th>3245</th>\n",
       "      <td>ham</td>\n",
       "      <td>funny fact nobody teaches volcanoes 2 erupt, t...</td>\n",
       "      <td>0</td>\n",
       "      <td>151</td>\n",
       "    </tr>\n",
       "    <tr>\n",
       "      <th>944</th>\n",
       "      <td>ham</td>\n",
       "      <td>i sent my scores to sophas and i had to do sec...</td>\n",
       "      <td>0</td>\n",
       "      <td>221</td>\n",
       "    </tr>\n",
       "    <tr>\n",
       "      <th>1044</th>\n",
       "      <td>spam</td>\n",
       "      <td>we know someone who you know that fancies you....</td>\n",
       "      <td>1</td>\n",
       "      <td>101</td>\n",
       "    </tr>\n",
       "    <tr>\n",
       "      <th>2484</th>\n",
       "      <td>ham</td>\n",
       "      <td>only if you promise your getting out as soon a...</td>\n",
       "      <td>0</td>\n",
       "      <td>124</td>\n",
       "    </tr>\n",
       "    <tr>\n",
       "      <th>812</th>\n",
       "      <td>spam</td>\n",
       "      <td>congratulations ur awarded either å£500 of cd ...</td>\n",
       "      <td>1</td>\n",
       "      <td>150</td>\n",
       "    </tr>\n",
       "  </tbody>\n",
       "</table>\n",
       "</div>"
      ],
      "text/plain": [
       "     label                                           raw text  spam  length\n",
       "3245   ham  funny fact nobody teaches volcanoes 2 erupt, t...     0     151\n",
       "944    ham  i sent my scores to sophas and i had to do sec...     0     221\n",
       "1044  spam  we know someone who you know that fancies you....     1     101\n",
       "2484   ham  only if you promise your getting out as soon a...     0     124\n",
       "812   spam  congratulations ur awarded either å£500 of cd ...     1     150"
      ]
     },
     "execution_count": 12,
     "metadata": {},
     "output_type": "execute_result"
    }
   ],
   "source": [
    "test.head()"
   ]
  },
  {
   "cell_type": "markdown",
   "metadata": {},
   "source": [
    "Visualize the length of spam and ham emails."
   ]
  },
  {
   "cell_type": "code",
   "execution_count": 13,
   "metadata": {},
   "outputs": [
    {
     "data": {
      "text/html": [
       "<div>\n",
       "<style scoped>\n",
       "    .dataframe tbody tr th:only-of-type {\n",
       "        vertical-align: middle;\n",
       "    }\n",
       "\n",
       "    .dataframe tbody tr th {\n",
       "        vertical-align: top;\n",
       "    }\n",
       "\n",
       "    .dataframe thead th {\n",
       "        text-align: right;\n",
       "    }\n",
       "</style>\n",
       "<table border=\"1\" class=\"dataframe\">\n",
       "  <thead>\n",
       "    <tr style=\"text-align: right;\">\n",
       "      <th></th>\n",
       "      <th>label</th>\n",
       "      <th>raw text</th>\n",
       "      <th>spam</th>\n",
       "      <th>length</th>\n",
       "    </tr>\n",
       "  </thead>\n",
       "  <tbody>\n",
       "    <tr>\n",
       "      <th>106</th>\n",
       "      <td>ham</td>\n",
       "      <td>aight, i'll hit you up when i get some cash</td>\n",
       "      <td>0</td>\n",
       "      <td>43</td>\n",
       "    </tr>\n",
       "    <tr>\n",
       "      <th>4697</th>\n",
       "      <td>ham</td>\n",
       "      <td>don no da:)whats you plan?</td>\n",
       "      <td>0</td>\n",
       "      <td>26</td>\n",
       "    </tr>\n",
       "    <tr>\n",
       "      <th>856</th>\n",
       "      <td>ham</td>\n",
       "      <td>going to take your babe out ?</td>\n",
       "      <td>0</td>\n",
       "      <td>29</td>\n",
       "    </tr>\n",
       "    <tr>\n",
       "      <th>3454</th>\n",
       "      <td>ham</td>\n",
       "      <td>no need lar. jus testing e phone card. dunno n...</td>\n",
       "      <td>0</td>\n",
       "      <td>158</td>\n",
       "    </tr>\n",
       "    <tr>\n",
       "      <th>2095</th>\n",
       "      <td>ham</td>\n",
       "      <td>probably, want to pick up more?</td>\n",
       "      <td>0</td>\n",
       "      <td>31</td>\n",
       "    </tr>\n",
       "  </tbody>\n",
       "</table>\n",
       "</div>"
      ],
      "text/plain": [
       "     label                                           raw text  spam  length\n",
       "106    ham        aight, i'll hit you up when i get some cash     0      43\n",
       "4697   ham                         don no da:)whats you plan?     0      26\n",
       "856    ham                      going to take your babe out ?     0      29\n",
       "3454   ham  no need lar. jus testing e phone card. dunno n...     0     158\n",
       "2095   ham                    probably, want to pick up more?     0      31"
      ]
     },
     "execution_count": 13,
     "metadata": {},
     "output_type": "execute_result"
    }
   ],
   "source": [
    "ham = train[train['label'] == 'ham']\n",
    "ham.head()"
   ]
  },
  {
   "cell_type": "code",
   "execution_count": 14,
   "metadata": {},
   "outputs": [
    {
     "data": {
      "text/html": [
       "<div>\n",
       "<style scoped>\n",
       "    .dataframe tbody tr th:only-of-type {\n",
       "        vertical-align: middle;\n",
       "    }\n",
       "\n",
       "    .dataframe tbody tr th {\n",
       "        vertical-align: top;\n",
       "    }\n",
       "\n",
       "    .dataframe thead th {\n",
       "        text-align: right;\n",
       "    }\n",
       "</style>\n",
       "<table border=\"1\" class=\"dataframe\">\n",
       "  <thead>\n",
       "    <tr style=\"text-align: right;\">\n",
       "      <th></th>\n",
       "      <th>label</th>\n",
       "      <th>raw text</th>\n",
       "      <th>spam</th>\n",
       "      <th>length</th>\n",
       "    </tr>\n",
       "  </thead>\n",
       "  <tbody>\n",
       "    <tr>\n",
       "      <th>3130</th>\n",
       "      <td>spam</td>\n",
       "      <td>lookatme!: thanks for your purchase of a video...</td>\n",
       "      <td>1</td>\n",
       "      <td>156</td>\n",
       "    </tr>\n",
       "    <tr>\n",
       "      <th>800</th>\n",
       "      <td>spam</td>\n",
       "      <td>last chance! claim ur å£150 worth of discount ...</td>\n",
       "      <td>1</td>\n",
       "      <td>154</td>\n",
       "    </tr>\n",
       "    <tr>\n",
       "      <th>4806</th>\n",
       "      <td>spam</td>\n",
       "      <td>private! your 2004 account statement for 07849...</td>\n",
       "      <td>1</td>\n",
       "      <td>153</td>\n",
       "    </tr>\n",
       "    <tr>\n",
       "      <th>1117</th>\n",
       "      <td>spam</td>\n",
       "      <td>449050000301 you have won a å£2,000 price! to ...</td>\n",
       "      <td>1</td>\n",
       "      <td>70</td>\n",
       "    </tr>\n",
       "    <tr>\n",
       "      <th>4110</th>\n",
       "      <td>spam</td>\n",
       "      <td>urgent! your mobile number has been awarded a ...</td>\n",
       "      <td>1</td>\n",
       "      <td>141</td>\n",
       "    </tr>\n",
       "  </tbody>\n",
       "</table>\n",
       "</div>"
      ],
      "text/plain": [
       "     label                                           raw text  spam  length\n",
       "3130  spam  lookatme!: thanks for your purchase of a video...     1     156\n",
       "800   spam  last chance! claim ur å£150 worth of discount ...     1     154\n",
       "4806  spam  private! your 2004 account statement for 07849...     1     153\n",
       "1117  spam  449050000301 you have won a å£2,000 price! to ...     1      70\n",
       "4110  spam  urgent! your mobile number has been awarded a ...     1     141"
      ]
     },
     "execution_count": 14,
     "metadata": {},
     "output_type": "execute_result"
    }
   ],
   "source": [
    "spam = train[train['label'] == 'spam']\n",
    "spam.head()"
   ]
  },
  {
   "cell_type": "code",
   "execution_count": 15,
   "metadata": {},
   "outputs": [
    {
     "data": {
      "image/png": "[encoded data removed]",
      "text/plain": [
       "<Figure size 432x288 with 1 Axes>"
      ]
     },
     "metadata": {
      "needs_background": "light"
     },
     "output_type": "display_data"
    }
   ],
   "source": [
    "import seaborn as sns\n",
    "import matplotlib.pyplot as plt\n",
    "sns.distplot(ham['length'], label = 'ham');\n",
    "sns.distplot(spam['length'], label = 'spam');\n",
    "plt.legend();"
   ]
  },
  {
   "cell_type": "markdown",
   "metadata": {},
   "source": [
    "From the visualization, it appears that spam emails tend to be longer. It might also be a good idea to visualize certain words and see whether they occur more frequently in spam or ham."
   ]
  },
  {
   "cell_type": "code",
   "execution_count": 16,
   "metadata": {},
   "outputs": [],
   "source": [
    "def words_in_texts(words, texts):\n",
    "    texts_len = len(texts)\n",
    "    words_len = len(words)\n",
    "    new_array = []\n",
    "    \n",
    "    for num in range(words_len):\n",
    "        new_array.append(texts.str.contains(words[num], regex = False).values)\n",
    "    \n",
    "    indicator_array = np.array(new_array).T.astype(int)\n",
    "    return indicator_array"
   ]
  },
  {
   "cell_type": "code",
   "execution_count": 17,
   "metadata": {},
   "outputs": [
    {
     "data": {
      "text/plain": [
       "array([[0, 0, 0, 0, 0, 0],\n",
       "       [0, 0, 0, 0, 0, 0],\n",
       "       [0, 0, 0, 0, 0, 0],\n",
       "       ...,\n",
       "       [0, 0, 0, 0, 0, 0],\n",
       "       [0, 0, 0, 0, 0, 0],\n",
       "       [0, 0, 0, 0, 0, 0]])"
      ]
     },
     "execution_count": 17,
     "metadata": {},
     "output_type": "execute_result"
    }
   ],
   "source": [
    "words = ['body', 'business', 'html', 'money', 'offer', 'free']\n",
    "zero_ones = words_in_texts(words, train['raw text'])\n",
    "zero_ones"
   ]
  },
  {
   "cell_type": "code",
   "execution_count": 18,
   "metadata": {},
   "outputs": [
    {
     "data": {
      "text/html": [
       "<div>\n",
       "<style scoped>\n",
       "    .dataframe tbody tr th:only-of-type {\n",
       "        vertical-align: middle;\n",
       "    }\n",
       "\n",
       "    .dataframe tbody tr th {\n",
       "        vertical-align: top;\n",
       "    }\n",
       "\n",
       "    .dataframe thead th {\n",
       "        text-align: right;\n",
       "    }\n",
       "</style>\n",
       "<table border=\"1\" class=\"dataframe\">\n",
       "  <thead>\n",
       "    <tr style=\"text-align: right;\">\n",
       "      <th></th>\n",
       "      <th>body</th>\n",
       "      <th>business</th>\n",
       "      <th>html</th>\n",
       "      <th>money</th>\n",
       "      <th>offer</th>\n",
       "      <th>free</th>\n",
       "      <th>label</th>\n",
       "    </tr>\n",
       "  </thead>\n",
       "  <tbody>\n",
       "    <tr>\n",
       "      <th>3130</th>\n",
       "      <td>0</td>\n",
       "      <td>0</td>\n",
       "      <td>0</td>\n",
       "      <td>0</td>\n",
       "      <td>0</td>\n",
       "      <td>0</td>\n",
       "      <td>spam</td>\n",
       "    </tr>\n",
       "    <tr>\n",
       "      <th>106</th>\n",
       "      <td>0</td>\n",
       "      <td>0</td>\n",
       "      <td>0</td>\n",
       "      <td>0</td>\n",
       "      <td>0</td>\n",
       "      <td>0</td>\n",
       "      <td>ham</td>\n",
       "    </tr>\n",
       "    <tr>\n",
       "      <th>4697</th>\n",
       "      <td>0</td>\n",
       "      <td>0</td>\n",
       "      <td>0</td>\n",
       "      <td>0</td>\n",
       "      <td>0</td>\n",
       "      <td>0</td>\n",
       "      <td>ham</td>\n",
       "    </tr>\n",
       "    <tr>\n",
       "      <th>856</th>\n",
       "      <td>0</td>\n",
       "      <td>0</td>\n",
       "      <td>0</td>\n",
       "      <td>0</td>\n",
       "      <td>0</td>\n",
       "      <td>0</td>\n",
       "      <td>ham</td>\n",
       "    </tr>\n",
       "    <tr>\n",
       "      <th>3454</th>\n",
       "      <td>0</td>\n",
       "      <td>0</td>\n",
       "      <td>0</td>\n",
       "      <td>0</td>\n",
       "      <td>0</td>\n",
       "      <td>0</td>\n",
       "      <td>ham</td>\n",
       "    </tr>\n",
       "  </tbody>\n",
       "</table>\n",
       "</div>"
      ],
      "text/plain": [
       "      body  business  html  money  offer  free label\n",
       "3130     0         0     0      0      0     0  spam\n",
       "106      0         0     0      0      0     0   ham\n",
       "4697     0         0     0      0      0     0   ham\n",
       "856      0         0     0      0      0     0   ham\n",
       "3454     0         0     0      0      0     0   ham"
      ]
     },
     "execution_count": 18,
     "metadata": {},
     "output_type": "execute_result"
    }
   ],
   "source": [
    "body_list = zero_ones[:, 0]\n",
    "business_list = zero_ones[:, 1]\n",
    "html_list = zero_ones[:, 2]\n",
    "money_list = zero_ones[:, 3]\n",
    "offer_list = zero_ones[:, 4]\n",
    "free_list = zero_ones[:, 5]\n",
    "\n",
    "\n",
    "data0 = {'body' : body_list, 'business' : business_list, 'html' : html_list, 'money' : money_list, 'offer' : offer_list, \n",
    "         'free' : free_list, 'label' : train['label']}\n",
    "\n",
    "new_dataframe = pd.DataFrame(data = data0)\n",
    "new_dataframe.head()"
   ]
  },
  {
   "cell_type": "code",
   "execution_count": 19,
   "metadata": {},
   "outputs": [
    {
     "data": {
      "text/html": [
       "<div>\n",
       "<style scoped>\n",
       "    .dataframe tbody tr th:only-of-type {\n",
       "        vertical-align: middle;\n",
       "    }\n",
       "\n",
       "    .dataframe tbody tr th {\n",
       "        vertical-align: top;\n",
       "    }\n",
       "\n",
       "    .dataframe thead th {\n",
       "        text-align: right;\n",
       "    }\n",
       "</style>\n",
       "<table border=\"1\" class=\"dataframe\">\n",
       "  <thead>\n",
       "    <tr style=\"text-align: right;\">\n",
       "      <th></th>\n",
       "      <th>variable</th>\n",
       "      <th>label</th>\n",
       "      <th>value</th>\n",
       "    </tr>\n",
       "  </thead>\n",
       "  <tbody>\n",
       "    <tr>\n",
       "      <th>0</th>\n",
       "      <td>body</td>\n",
       "      <td>ham</td>\n",
       "      <td>0.006922</td>\n",
       "    </tr>\n",
       "    <tr>\n",
       "      <th>1</th>\n",
       "      <td>body</td>\n",
       "      <td>spam</td>\n",
       "      <td>0.002941</td>\n",
       "    </tr>\n",
       "    <tr>\n",
       "      <th>2</th>\n",
       "      <td>business</td>\n",
       "      <td>ham</td>\n",
       "      <td>0.000461</td>\n",
       "    </tr>\n",
       "    <tr>\n",
       "      <th>3</th>\n",
       "      <td>business</td>\n",
       "      <td>spam</td>\n",
       "      <td>0.000000</td>\n",
       "    </tr>\n",
       "    <tr>\n",
       "      <th>4</th>\n",
       "      <td>free</td>\n",
       "      <td>ham</td>\n",
       "      <td>0.014075</td>\n",
       "    </tr>\n",
       "    <tr>\n",
       "      <th>5</th>\n",
       "      <td>free</td>\n",
       "      <td>spam</td>\n",
       "      <td>0.270588</td>\n",
       "    </tr>\n",
       "    <tr>\n",
       "      <th>6</th>\n",
       "      <td>html</td>\n",
       "      <td>ham</td>\n",
       "      <td>0.000000</td>\n",
       "    </tr>\n",
       "    <tr>\n",
       "      <th>7</th>\n",
       "      <td>html</td>\n",
       "      <td>spam</td>\n",
       "      <td>0.001471</td>\n",
       "    </tr>\n",
       "    <tr>\n",
       "      <th>8</th>\n",
       "      <td>money</td>\n",
       "      <td>ham</td>\n",
       "      <td>0.011767</td>\n",
       "    </tr>\n",
       "    <tr>\n",
       "      <th>9</th>\n",
       "      <td>money</td>\n",
       "      <td>spam</td>\n",
       "      <td>0.004412</td>\n",
       "    </tr>\n",
       "    <tr>\n",
       "      <th>10</th>\n",
       "      <td>offer</td>\n",
       "      <td>ham</td>\n",
       "      <td>0.001615</td>\n",
       "    </tr>\n",
       "    <tr>\n",
       "      <th>11</th>\n",
       "      <td>offer</td>\n",
       "      <td>spam</td>\n",
       "      <td>0.051471</td>\n",
       "    </tr>\n",
       "  </tbody>\n",
       "</table>\n",
       "</div>"
      ],
      "text/plain": [
       "    variable label     value\n",
       "0       body   ham  0.006922\n",
       "1       body  spam  0.002941\n",
       "2   business   ham  0.000461\n",
       "3   business  spam  0.000000\n",
       "4       free   ham  0.014075\n",
       "5       free  spam  0.270588\n",
       "6       html   ham  0.000000\n",
       "7       html  spam  0.001471\n",
       "8      money   ham  0.011767\n",
       "9      money  spam  0.004412\n",
       "10     offer   ham  0.001615\n",
       "11     offer  spam  0.051471"
      ]
     },
     "execution_count": 19,
     "metadata": {},
     "output_type": "execute_result"
    }
   ],
   "source": [
    "final_dataframe = new_dataframe.melt('label').groupby(['variable', 'label']).mean()\n",
    "final_dataframe = final_dataframe.reset_index()\n",
    "final_dataframe"
   ]
  },
  {
   "cell_type": "code",
   "execution_count": 20,
   "metadata": {},
   "outputs": [
    {
     "data": {
      "image/png": "[encoded data removed]",
      "text/plain": [
       "<Figure size 432x288 with 1 Axes>"
      ]
     },
     "metadata": {
      "needs_background": "light"
     },
     "output_type": "display_data"
    }
   ],
   "source": [
    "sns.barplot(x = 'variable', y = 'value', hue = 'label', data = final_dataframe);\n",
    "plt.title('Frequency of Words in Spam/Ham Emails')\n",
    "plt.xlabel('words')\n",
    "plt.ylabel('proportion of emails')\n",
    "plt.show()"
   ]
  },
  {
   "cell_type": "markdown",
   "metadata": {},
   "source": [
    "We should choose better words but two of the words that appear more frequently in spam are \"free\" and \"offer\"."
   ]
  },
  {
   "cell_type": "code",
   "execution_count": 21,
   "metadata": {},
   "outputs": [
    {
     "data": {
      "text/html": [
       "<div>\n",
       "<style scoped>\n",
       "    .dataframe tbody tr th:only-of-type {\n",
       "        vertical-align: middle;\n",
       "    }\n",
       "\n",
       "    .dataframe tbody tr th {\n",
       "        vertical-align: top;\n",
       "    }\n",
       "\n",
       "    .dataframe thead th {\n",
       "        text-align: right;\n",
       "    }\n",
       "</style>\n",
       "<table border=\"1\" class=\"dataframe\">\n",
       "  <thead>\n",
       "    <tr style=\"text-align: right;\">\n",
       "      <th></th>\n",
       "      <th>label</th>\n",
       "      <th>raw text</th>\n",
       "      <th>spam</th>\n",
       "      <th>length</th>\n",
       "    </tr>\n",
       "  </thead>\n",
       "  <tbody>\n",
       "    <tr>\n",
       "      <th>3130</th>\n",
       "      <td>spam</td>\n",
       "      <td>lookatme!: thanks for your purchase of a video...</td>\n",
       "      <td>1</td>\n",
       "      <td>156</td>\n",
       "    </tr>\n",
       "    <tr>\n",
       "      <th>106</th>\n",
       "      <td>ham</td>\n",
       "      <td>aight, i'll hit you up when i get some cash</td>\n",
       "      <td>0</td>\n",
       "      <td>43</td>\n",
       "    </tr>\n",
       "    <tr>\n",
       "      <th>4697</th>\n",
       "      <td>ham</td>\n",
       "      <td>don no da:)whats you plan?</td>\n",
       "      <td>0</td>\n",
       "      <td>26</td>\n",
       "    </tr>\n",
       "    <tr>\n",
       "      <th>856</th>\n",
       "      <td>ham</td>\n",
       "      <td>going to take your babe out ?</td>\n",
       "      <td>0</td>\n",
       "      <td>29</td>\n",
       "    </tr>\n",
       "    <tr>\n",
       "      <th>3454</th>\n",
       "      <td>ham</td>\n",
       "      <td>no need lar. jus testing e phone card. dunno n...</td>\n",
       "      <td>0</td>\n",
       "      <td>158</td>\n",
       "    </tr>\n",
       "  </tbody>\n",
       "</table>\n",
       "</div>"
      ],
      "text/plain": [
       "     label                                           raw text  spam  length\n",
       "3130  spam  lookatme!: thanks for your purchase of a video...     1     156\n",
       "106    ham        aight, i'll hit you up when i get some cash     0      43\n",
       "4697   ham                         don no da:)whats you plan?     0      26\n",
       "856    ham                      going to take your babe out ?     0      29\n",
       "3454   ham  no need lar. jus testing e phone card. dunno n...     0     158"
      ]
     },
     "execution_count": 21,
     "metadata": {},
     "output_type": "execute_result"
    }
   ],
   "source": [
    "train.head()"
   ]
  },
  {
   "cell_type": "markdown",
   "metadata": {},
   "source": [
    "Can now train a classifier"
   ]
  },
  {
   "cell_type": "code",
   "execution_count": 22,
   "metadata": {},
   "outputs": [
    {
     "data": {
      "text/plain": [
       "(array([[0, 0, 0, 0, 0],\n",
       "        [0, 0, 0, 0, 0],\n",
       "        [0, 0, 0, 0, 0],\n",
       "        [0, 0, 0, 0, 0],\n",
       "        [0, 0, 0, 0, 0]]),\n",
       " array([1, 0, 0, 0, 0]))"
      ]
     },
     "execution_count": 22,
     "metadata": {},
     "output_type": "execute_result"
    }
   ],
   "source": [
    "some_words = ['drug', 'bank', 'prescription', 'memo', 'private']\n",
    "\n",
    "X_train = words_in_texts(some_words, train['raw text'])\n",
    "Y_train = np.array(train['spam'])\n",
    "\n",
    "X_train[:5], Y_train[:5]"
   ]
  },
  {
   "cell_type": "code",
   "execution_count": 23,
   "metadata": {},
   "outputs": [
    {
     "name": "stdout",
     "output_type": "stream",
     "text": [
      "Training Accuracy:  0.867171918627842\n"
     ]
    }
   ],
   "source": [
    "from sklearn.linear_model import LogisticRegression\n",
    "\n",
    "model = LogisticRegression(fit_intercept = True)\n",
    "model.fit(X_train, Y_train)\n",
    "\n",
    "training_accuracy = model.score(X_train,Y_train)\n",
    "print(\"Training Accuracy: \", training_accuracy)"
   ]
  },
  {
   "cell_type": "markdown",
   "metadata": {},
   "source": [
    "Although are accuracy is fairly good, let's measure it by calculating the model's precision, recall, and false positive rate."
   ]
  },
  {
   "cell_type": "code",
   "execution_count": 24,
   "metadata": {},
   "outputs": [
    {
     "name": "stdout",
     "output_type": "stream",
     "text": [
      "Precision: 0.9375\n",
      "Recall: 0.022058823529411766\n",
      "False-alarm rate: 0.00023073373327180433\n"
     ]
    }
   ],
   "source": [
    "Y_train_hat = model.predict(X_train)\n",
    "\n",
    "true_positive = 0\n",
    "true_negative = 0\n",
    "false_positive = 0\n",
    "false_negative = 0\n",
    "length_y = np.arange(len(Y_train_hat))\n",
    "\n",
    "for index in length_y:\n",
    "    if (Y_train[index] == 1) and (Y_train[index] == Y_train_hat[index]):\n",
    "        true_positive += 1\n",
    "    if (Y_train[index] == 0) and (Y_train[index] == Y_train_hat[index]):\n",
    "        true_negative += 1\n",
    "    if (Y_train[index] == 1) and (Y_train[index] != Y_train_hat[index]):\n",
    "        false_negative += 1\n",
    "    if (Y_train[index] == 0) and (Y_train[index] != Y_train_hat[index]):\n",
    "        false_positive += 1\n",
    "\n",
    "logistic_predictor_precision = true_positive / (true_positive + false_positive)\n",
    "logistic_predictor_recall = true_positive / (true_positive + false_negative)\n",
    "logistic_predictor_far = false_positive / (false_positive + true_negative)\n",
    "\n",
    "print(\"Precision: \" + str(logistic_predictor_precision))\n",
    "print(\"Recall: \" + str(logistic_predictor_recall))\n",
    "print(\"False-alarm rate: \" + str(logistic_predictor_far))"
   ]
  },
  {
   "cell_type": "markdown",
   "metadata": {},
   "source": [
    "Our recall is pretty terrible. Our precision score and false-alarm rate is fine. Thus, we need to improve our model and we can do so by choosing better and more words. Let's start off by seeing what are the most common words in the spam raw text."
   ]
  },
  {
   "cell_type": "code",
   "execution_count": 25,
   "metadata": {},
   "outputs": [
    {
     "data": {
      "text/html": [
       "<div>\n",
       "<style scoped>\n",
       "    .dataframe tbody tr th:only-of-type {\n",
       "        vertical-align: middle;\n",
       "    }\n",
       "\n",
       "    .dataframe tbody tr th {\n",
       "        vertical-align: top;\n",
       "    }\n",
       "\n",
       "    .dataframe thead th {\n",
       "        text-align: right;\n",
       "    }\n",
       "</style>\n",
       "<table border=\"1\" class=\"dataframe\">\n",
       "  <thead>\n",
       "    <tr style=\"text-align: right;\">\n",
       "      <th></th>\n",
       "      <th>index</th>\n",
       "      <th>label</th>\n",
       "      <th>raw text</th>\n",
       "      <th>spam</th>\n",
       "      <th>length</th>\n",
       "    </tr>\n",
       "  </thead>\n",
       "  <tbody>\n",
       "    <tr>\n",
       "      <th>0</th>\n",
       "      <td>3130</td>\n",
       "      <td>spam</td>\n",
       "      <td>lookatme!: thanks for your purchase of a video...</td>\n",
       "      <td>1</td>\n",
       "      <td>156</td>\n",
       "    </tr>\n",
       "    <tr>\n",
       "      <th>1</th>\n",
       "      <td>800</td>\n",
       "      <td>spam</td>\n",
       "      <td>last chance! claim ur å£150 worth of discount ...</td>\n",
       "      <td>1</td>\n",
       "      <td>154</td>\n",
       "    </tr>\n",
       "    <tr>\n",
       "      <th>2</th>\n",
       "      <td>4806</td>\n",
       "      <td>spam</td>\n",
       "      <td>private! your 2004 account statement for 07849...</td>\n",
       "      <td>1</td>\n",
       "      <td>153</td>\n",
       "    </tr>\n",
       "    <tr>\n",
       "      <th>3</th>\n",
       "      <td>1117</td>\n",
       "      <td>spam</td>\n",
       "      <td>449050000301 you have won a å£2,000 price! to ...</td>\n",
       "      <td>1</td>\n",
       "      <td>70</td>\n",
       "    </tr>\n",
       "    <tr>\n",
       "      <th>4</th>\n",
       "      <td>4110</td>\n",
       "      <td>spam</td>\n",
       "      <td>urgent! your mobile number has been awarded a ...</td>\n",
       "      <td>1</td>\n",
       "      <td>141</td>\n",
       "    </tr>\n",
       "  </tbody>\n",
       "</table>\n",
       "</div>"
      ],
      "text/plain": [
       "   index label                                           raw text  spam  \\\n",
       "0   3130  spam  lookatme!: thanks for your purchase of a video...     1   \n",
       "1    800  spam  last chance! claim ur å£150 worth of discount ...     1   \n",
       "2   4806  spam  private! your 2004 account statement for 07849...     1   \n",
       "3   1117  spam  449050000301 you have won a å£2,000 price! to ...     1   \n",
       "4   4110  spam  urgent! your mobile number has been awarded a ...     1   \n",
       "\n",
       "   length  \n",
       "0     156  \n",
       "1     154  \n",
       "2     153  \n",
       "3      70  \n",
       "4     141  "
      ]
     },
     "execution_count": 25,
     "metadata": {},
     "output_type": "execute_result"
    }
   ],
   "source": [
    "spam.reset_index(inplace = True)\n",
    "spam.head()"
   ]
  },
  {
   "cell_type": "code",
   "execution_count": 26,
   "metadata": {},
   "outputs": [
    {
     "data": {
      "text/plain": [
       "' lookatme!: thanks for your purchase of a video clip from lookatme!, you\\'ve been charged 35p. think you can do better? why not send a video in a mmsto 32323. last chance! claim ur å£150 worth of discount vouchers today! text shop to 85023 now! savamob, offers mobile! t cs savamob pobox84, m263uz. å£3.00 sub. 16 private! your 2004 account statement for 078498****7 shows 786 unredeemed bonus points. to claim call 08719180219 identifier code: 45239 expires 06.05.05 449050000301 you have won a å£2,000 price! to claim, call 09050000301. urgent! your mobile number has been awarded a <ukp>2000 prize guaranteed. call 09061790125 from landline. claim 3030. valid 12hrs only 150ppm **free message**thanks for using the auction subscription service. 18 . 150p/msgrcvd 2 skip an auction txt out. 2 unsubscribe txt stop customercare 08718726270 want 2 get laid tonight? want real dogging locations sent direct 2 ur mob? join the uk\\'s largest dogging network by txting moan to 69888nyt. ec2a. 31p.msg@150p hmv bonus special 500 pounds of genuine hmv vouchers to be won. just answer 4 easy questions. play now! send hmv to 86688 more info:www.100percent-real.com please call amanda with regard to renewing or upgrading your current t-mobile handset free of charge. offer ends today. tel 0845 021 3680 subject to t\\'s and c\\'s free message activate your 500 free text messages by replying to this message with the word free for terms & conditions, visit www.07781482378.com mila, age23, blonde, new in uk. i look sex with uk guys. if u like fun with me. text mtalk to 69866.18 . 30pp/txt 1st 5free. å£1.50 increments. help08718728876 this message is free. welcome to the new & improved sex & dogging club! to unsubscribe from this service reply stop. msgs@150p 18+only twinks, bears, scallies, skins and jocks are calling now. don\\'t miss the weekend\\'s fun. call 08712466669 at 10p/min. 2 stop texts call 08712460324(nat rate) as a registered optin subscriber ur draw 4 å£100 gift voucher will be entered on receipt of a correct ans to 80062 whats no1 in the bbc charts warner village 83118 c colin farrell in swat this wkend @warner village & get 1 free med. popcorn!just show msg+ticket@kiosk.valid 4-7/12. c t&c @kiosk. reply sony 4 mre film offers ur awarded a city break and could win a å£200 summer shopping spree every wk. txt store to 88039 . skilgme. tscs087147403231winawk!age16 å£1.50perwksub thesmszone.com lets you send free anonymous and masked messages..im sending this message from there..do you see the potential for abuse??? your 2004 account for 07xxxxxxxxx shows 786 unredeemed points. to claim call 08719181259 identifier code: xxxxx expires 26.03.05 this is the 2nd time we have tried 2 contact u. u have won the 750 pound prize. 2 claim is easy, call 08712101358 now! only 10p per min. bt-national-rate gr8 new service - live sex video chat on your mob - see the sexiest dirtiest girls live on ur phone - 4 details text horny to 89070 to cancel send stop to 89070 rgent! this is the 2nd attempt to contact u!u have won å£1250 call 09071512433 b4 050703 t&csbcm4235wc1n3xx. callcost 150ppm mobilesvary. maxå£7. 50 hi its lucy hubby at meetins all day fri & i will b alone at hotel u fancy cumin over? pls leave msg 2day 09099726395 lucy x callså£1/minmobsmorelkpobox177hp51fl congrats! 2 mobile 3g videophones r yours. call 09061744553 now! videochat wid ur mates, play java games, dload polyh music, noline rentl. bx420. ip4. 5we. 150pm ever thought about living a good life with a perfect partner? just txt back name and age to join the mobile community. (100p/sms) do you want 750 anytime any network mins 150 text and a new video phone for only five pounds per week call 08000776320 now or reply for delivery tomorrow i\\'d like to tell you my deepest darkest fantasies. call me 09094646631 just 60p/min. to stop texts call 08712460324 (nat rate) wow! the boys r back. take that 2007 uk tour. win vip tickets & pre-book with vip club. txt club to 81303. trackmarque ltd info@vipclub4u. a å£400 xmas reward is waiting for you! our computer has randomly picked you from our loyal mobile customers to receive a å£400 reward. just call 09066380611 1000\\'s flirting now! txt girl or bloke & ur name & age, eg girl zoe 18 to 8007 to join and get chatting! not heard from u4 a while. call 4 rude chat private line 01223585334 to cum. wan 2c pics of me gettin shagged then text pix to 8552. 2end send stop 8552 sam xxx themob> check out our newest selection of content, games, tones, gossip, babes and sport, keep your mobile fit and funky text wap to 82468 download as many ringtones as u like no restrictions, 1000s 2 choose. u can even send 2 yr buddys. txt sir to 80082 å£3  ur balance is now å£600. next question: complete the landmark, big, a. bob, b. barry or c. ben ?. text a, b or c to 83738. good luck! text pass to 69669 to collect your polyphonic ringtones. normal gprs charges apply only. enjoy your tones urgent! you have won a 1 week free membership in our å£100,000 prize jackpot! txt the word: claim to no: 81010 t&c www.dbuk.net lccltd pobox 4403ldnw1a7rw18 please call our customer service representative on 0800 169 6031 between 10am-9pm as you have won a guaranteed å£1000 cash or å£5000 prize! urgent! we are trying to contact u. todays draw shows that you have won a å£800 prize guaranteed. call 09050003091 from land line. claim c52. valid12hrs only no. 1 nokia tone 4 ur mob every week! just txt nok to 87021. 1st tone free ! so get txtin now and tell ur friends. 150p/tone. 16 reply hl 4info free for 1st week! no1 nokia tone 4 ur mobile every week just txt nokia to 8077 get txting and tell ur mates. www.getzed.co.uk pobox 36504 w45wq 16+ norm150p/tone u have a secret admirer who is looking 2 make contact with u-find out who they r*reveal who thinks ur so special-call on 09065171142-stopsms-08718727870150ppm freemsg hey u, i just got 1 of these video/pic fones, reply wild to this txt & ill send u my pics, hurry up im so bored at work xxx (18 150p/rcvd stop2stop) interflora - åòit\\'s not too late to order interflora flowers for christmas call 0800 505060 to place your order before midnight tomorrow. hello from orange. for 1 month\\'s free access to games, news and sport, plus 10 free texts and 20 photo messages, reply yes. terms apply: www.orange.co.uk/ow not heard from u4 a while. call 4 rude chat private line 01223585334 to cum. wan 2c pics of me gettin shagged then text pix to 8552. 2end send stop 8552 sam xxx last chance! claim ur å£150 worth of discount vouchers today! text shop to 85023 now! savamob, offers mobile! t cs savamob pobox84, m263uz. å£3.00 sub. 16 free-message: jamster!get the crazy frog sound now! for poly text mad1, for real text mad2 to 88888. 6 crazy sounds for just 3 gbp/week! 16+only! t&c\\'s apply urgent! we are trying to contact u. todays draw shows that you have won a å£800 prize guaranteed. call 09050001295 from land line. claim a21. valid 12hrs only join the uk\\'s horniest dogging service and u can have sex 2nite!. just sign up and follow the instructions. txt entry to 69888 now! nyt.ec2a.3lp.msg@150p call 09090900040 & listen to extreme dirty live chat going on in the office right now total privacy no one knows your [sic] listening 60p min 24/7mp 0870753331018+ 100 dating service cal;l 09064012103 box334sk38ch bloomberg -message center +447797706009 why wait? apply for your future http://careers. bloomberg.com 2/2 146tf150p private! your 2003 account statement for 078 hey i am really horny want to chat or see me naked text hot to 69698 text charged at 150pm to unsubscribe text stop 69698 missed call alert. these numbers called but left no message. 07008009200 santa calling! would your little ones like a call from santa xmas eve? call 09077818151 to book you time. calls1.50ppm last 3mins 30s t&c www.santacalling.com thanks for your ringtone order, reference number x49. your mobile will be charged 4.50. should your tone not arrive please call customer services 09065989182. from: [colour=red]text[/colour]txtstar we tried to contact you re your response to our offer of a new nokia fone and camcorder hit reply or call 08000930705 for delivery urgent this is our 2nd attempt to contact u. your å£900 prize from yesterday is still awaiting collection. to claim call now 09061702893. acl03530150pm six chances to win cash! from 100 to 20,000 pounds txt> csh11 and send to 87575. cost 150p/day, 6days, 16+ tsandcs apply reply hl 4 info welcome to select, an o2 service with added benefits. you can now call our specially trained advisors free from your mobile by dialling 402. 500 new mobiles from 2004, must go! txt: nokia to no: 89545 & collect yours today!from only å£1 www.4-tc.biz 2optout 087187262701.50gbp/mtmsg18 txtauction win urgent! your mobile number has been awarded with a å£2000 prize guaranteed call 09061790121 from land line. claim 3030 valid 12hrs only 150ppm  for ur chance to win a å£250 cash every wk txt: action to 80608. t\\'s&c\\'s www.movietrivia.tv custcare 08712405022, 1x150p/wk please call 08712402578 immediately as there is an urgent message waiting for you would you like to see my xxx pics they are so hot they were nearly banned in the uk! private! your 2003 account statement for shows 800 un-redeemed s. i. m. points. call 08719899230 identifier code: 41685 expires 07/11/04 you have won a guaranteed å£200 award or even å£1000 cashto claim ur award call free on 08000407165 (18+) 2 stop getstop on 88222 php. rg21 4jx we tried to contact you re your reply to our offer of 750 mins 150 textand a new video phone call 08002988890 now or reply for free delivery tomorrow todays vodafone numbers ending with 4882 are selected to a receive a å£350 award. if your number matches call 09064019014 to receive your å£350 award. you have won a guaranteed å£1000 cash or a å£2000 prize. to claim yr prize call our customer service representative on 08714712394 between 10am-7pm please call our customer service representative on freephone 0808 145 4742 between 9am-11pm as you have won a guaranteed å£1000 cash or å£5000 prize! your free ringtone is waiting to be collected. simply text the password \\\\mix\\\\\" to 85069 to verify. get usher and britney. fml it to 80488. your 500 free text messages are valid until 31 december 2005. do you ever notice that when you\\'re driving, anyone going slower than you is an idiot and everyone driving faster than you is a maniac? valentines day special! win over å£1000 in our quiz and take your partner on the trip of a lifetime! send go to 83600 now. 150p/msg rcvd. custcare:08718720201. yes! the only place in town to meet exciting adult singles is now in the uk. txt chat to 86688 now! 150p/msg. you are guaranteed the latest nokia phone, a 40gb ipod mp3 player or a å£500 prize! txt word: collect to no: 83355! ibhltd ldnw15h 150p/mtmsgrcvd18 do you want a new video handset? 750 anytime any network mins? half price line rental? camcorder? reply or call 08000930705 for delivery tomorrow win the newest åòharry potter and the order of the phoenix (book 5) reply harry, answer 5 questions - chance to be the first among readers! hi babe its chloe, how r u? i was smashed on saturday night, it was great! how was your weekend? u been missing me? sp visionsms.com text stop to stop 150p/text sex up ur mobile with a free sexy pic of jordan! just text babe to 88600. then every wk get a sexy celeb! pocketbabe.co.uk 4 more pics. 16 å£3/wk 087016248 kit strip - you have been billed 150p. netcollex ltd. po box 1013 ig11 oja (bank of granite issues strong-buy) explosive pick for our members *****up over 300% *********** nasdaq symbol cdgt that is a $5.00 per.. private! your 2003 account statement for 07973788240 shows 800 un-redeemed s. i. m. points. call 08715203649 identifier code: 40533 expires 31/10/04 88066 from 88066 lost 3pound help please call our customer service representative on freephone 0808 145 4742 between 9am-11pm as you have won a guaranteed å£1000 cash or å£5000 prize! not heard from u4 a while. call me now am here all night with just my knickers on. make me beg for it like u did last time 01223585236 xx luv nikiyu4.net private! your 2004 account statement for 07742676969 shows 786 unredeemed bonus points. to claim call 08719180248 identifier code: 45239 expires from 88066 lost å£12 help buy space invaders 4 a chance 2 win orig arcade game console. press 0 for games arcade (std wap charge) see o2.co.uk/games 4 terms + settings. no purchase urgent, important information for o2 user. today is your lucky day! 2 find out why log onto http://www.urawinner.com there is a fantastic surprise awaiting for you no 1 polyphonic tone 4 ur mob every week! just txt pt2 to 87575. 1st tone free ! so get txtin now and tell ur friends. 150p/tone. 16 reply hl 4info winner!! as a valued network customer you have been selected to receivea å£900 prize reward! to claim call 09061701461. claim code kl341. valid 12 hours only. gsoh? good with spam the ladies?u could b a male gigolo? 2 join the uk\\'s fastest growing mens club reply oncall. mjzgroup. 08714342399.2stop reply stop. msg@å£1.50rcvd free msg: get gnarls barkleys \\\\crazy\\\\\" ringtone totally free just reply go to this message right now!\" get the official england poly ringtone or colour flag on yer mobile for tonights game! text tone or flag to 84199. optout txt eng stop box39822 w111wx å£1.50 this message is free. welcome to the new & improved sex & dogging club! to unsubscribe from this service reply stop. msgs@150p 18 only free for 1st week! no1 nokia tone 4 ur mobile every week just txt nokia to 8077 get txting and tell ur mates. www.getzed.co.uk pobox 36504 w45wq 16+ norm150p/tone urgent! please call 0906346330. your abta complimentary 4* spanish holiday or å£10,000 cash await collection sae t&cs box 47 po19 2ez 150ppm 18+ urgent! your mobile no. was awarded å£2000 bonus caller prize on 5/9/03 this is our final try to contact u! call from landline 09064019788 box42wr29c, 150ppm want 2 get laid tonight? want real dogging locations sent direct 2 ur mob? join the uk\\'s largest dogging network bt txting gravel to 69888! nt. ec2a. 31p.msg@150p todays voda numbers ending 7548 are selected to receive a $350 award. if you have a match please call 08712300220 quoting claim code 4041 standard rates app text banneduk to 89555 to see! cost 150p textoperator g696ga 18+ xxx dear dave this is your final notice to collect your 4* tenerife holiday or #5000 cash award! call 09061743806 from landline. tcs sae box326 cw25wx 150ppm december only! had your mobile 11mths+? you are entitled to update to the latest colour camera mobile for free! call the mobile update co free on 08002986906 congrats! 2 mobile 3g videophones r yours. call 09061744553 now! videochat wid ur mates, play java games, dload polyh music, noline rentl. bx420. ip4. 5we. 150pm if you don\\'t, your prize will go to another customer. t&c at www.t-c.biz 18+ 150p/min polo ltd suite 373 london w1j 6hl please call back if busy t-mobile customer you may now claim your free camera phone upgrade & a pay & go sim card for your loyalty. call on 0845 021 3680.offer ends 28thfeb.t&c\\'s apply did you hear about the new \\\\divorce barbie\\\\\"? it comes with all of ken\\'s stuff!\" good luck! draw takes place 28th feb 06. good luck! for removal send stop to 87239 customer services 08708034412 hot live fantasies call now 08707509020 just 20p per min ntt ltd, po box 1327 croydon cr9 5wb 0870 is a national rate call u have a secret admirer. reveal who thinks u r so special. call 09065174042. to opt out reply reveal stop. 1.50 per msg recd. cust care 07821230901 sms. ac jsco: energy is high, but u may not know where 2channel it. 2day ur leadership skills r strong. psychic? reply ans w/question. end? reply end jsco urgent! your mobile number has been awarded with a å£2000 prize guaranteed. call 09061790121 from land line. claim 3030. valid 12hrs only 150ppm no. 1 nokia tone 4 ur mob every week! just txt nok to 87021. 1st tone free ! so get txtin now and tell ur friends. 150p/tone. 16 reply hl 4info lord of the rings:return of the king in store now!reply lotr by 2 june 4 chance 2 win lotr soundtrack cds stdtxtrate. reply stop to end txts the current leading bid is 151. to pause this auction send out. customer care: 08718726270 you are being contacted by our dating service by someone you know! to find out who it is, call from your mobile or landline 09064017305 pobox75ldns7  dear subscriber ur draw 4 å£100 gift voucher will b entered on receipt of a correct ans. when was elvis presleys birthday? txt answer to 80062 loan for any purpose å£500 - å£75,000. homeowners + tenants welcome. have you been previously refused? we can still help. call free 0800 1956669 or text back \\'help\\' ur going 2 bahamas! callfreefone 08081560665 and speak to a live operator to claim either bahamas cruise ofå£2000 cash 18+only. to opt out txt x to 07786200117 update_now - xmas offer! latest motorola, sonyericsson & nokia & free bluetooth! double mins & 1000 txt on orange. call mobileupd8 on 08000839402 or call2optout/f4q= england v macedonia - dont miss the goals/team news. txt ur national team to 87077 eg england to 87077 try:wales, scotland 4txt/ì¼1.20 poboxox36504w45wq 16+ your credits have been topped up for http://www.bubbletext.com your renewal pin is tgxxrz <forwarded from 21870000>hi - this is your mailbox messaging sms alert. you have 40 matches. please call back on 09056242159 to retrieve your messages and matches cc100p/min free entry to the gr8prizes wkly comp 4 a chance to win the latest nokia 8800, psp or å£250 cash every wk.txt great to 80878 http//www.gr8prizes.com 08715705022 do you want a new video phone750 anytime any network mins 150 text for only five pounds per week call 08000776320 now or reply for delivery tomorrow knock knock txt whose there to 80082 to enter r weekly draw 4 a å£250 gift voucher 4 a store of yr choice. t&cs www.tkls.com age16 to stoptxtstopå£1.50/week this is the 2nd time we have tried to contact u. u have won the å£1450 prize to claim just call 09053750005 b4 310303. t&cs/stop sms 08718725756. 140ppm someonone you know is trying to contact you via our dating service! to find out who it could be call from your mobile or landline 09064015307 box334sk38ch  sunshine hols. to claim ur med holiday send a stamped self address envelope to drinks on us uk, po box 113, bray, wicklow, eire. quiz starts saturday! unsub stop urgent urgent! we have 800 free flights to europe to give away, call b4 10th sept & take a friend 4 free. call now to claim on 09050000555. ba128nnfwfly150ppm welcome to uk-mobile-date this msg is free giving you free calling to 08719839835. future mgs billed at 150p daily. to cancel send \\\\go stop\\\\\" to 89123\" you are awarded a sipix digital camera! call 09061221061 from landline. delivery within 28days. t cs box177. m221bp. 2yr warranty. 150ppm. 16 . p på£3.99 double mins and txts 4 6months free bluetooth on orange. available on sony, nokia motorola phones. call mobileupd8 on 08000839402 or call2optout/n9dx freemsg: hey - i\\'m buffy. 25 and love to satisfy men. home alone feeling randy. reply 2 c my pix! qlynnbv help08700621170150p a msg send stop to stop txts urgent! we are trying to contact you. last weekends draw shows that you have won a å£900 prize guaranteed. call 09061701939. claim code s89. valid 12hrs only bored of speed dating? try speedchat, txt speedchat to 80155, if you don\\'t like em txt swap and get a new chatter! chat80155 pobox36504w45wq 150p/msg rcd 16 from next month get upto 50% more calls 4 ur standard network charge 2 activate call 9061100010 c wire3.net 1st4terms pobox84 m26 3uz cost å£1.50 min mobcudb more todays voda numbers ending 5226 are selected to receive a ?350 award. if you hava a match please call 08712300220 quoting claim code 1131 standard rates app  hello. we need some posh birds and chaps to user trial prods for champneys. can i put you down? i need your address and dob asap. ta r urgent! call 09066350750 from your landline. your complimentary 4* ibiza holiday or 10,000 cash await collection sae t&cs po box 434 sk3 8wp 150 ppm 18+  u 447801259231 have a secret admirer who is looking 2 make contact with u-find out who they r*reveal who thinks ur so special-call on 09058094597 natalja (25/f) is inviting you to be her friend. reply yes-440 or no-440 see her: www.sms.ac/u/nat27081980 stop? send stop frnd to 62468 if you don\\'t, your prize will go to another customer. t&c at www.t-c.biz 18+ 150p/min polo ltd suite 373 london w1j 6hl please call back if busy  win a year supply of cds 4 a store of ur choice worth å£500 & enter our å£100 weekly draw txt music to 87066 ts&cs www.ldew.com.subs16+1win150ppmx3 congrats! nokia 3650 video camera phone is your call 09066382422 calls cost 150ppm ave call 3mins vary from mobiles 16+ close 300603 post bcm4284 ldn wc1n3xx show ur colours! euro 2004 2-4-1 offer! get an england flag & 3lions tone on ur phone! click on the following service message for info! your next amazing xxx picsfree1 video will be sent to you enjoy! if one vid is not enough for 2day text back the keyword picsfree1 to get the next video. i don\\'t know u and u don\\'t know me. send chat to 86688 now and let\\'s find each other! only 150p/msg rcvd. hg/suite342/2lands/row/w1j6hl ldn. 18 years or over. hi if ur lookin 4 saucy daytime fun wiv busty married woman am free all next week chat now 2 sort time 09099726429 janinexx callså£1/minmobsmorelkpobox177hp51fl to review and keep the fantastic nokia n-gage game deck with club nokia, go 2 www.cnupdates.com/newsletter. unsubscribe from alerts reply with the word out you have 1 new voicemail. please call 08719181513. don\\'t b floppy... b snappy & happy! only gay chat service with photo upload call 08718730666 (10p/min). 2 stop our texts call 08712460324 big brother alert! the computer has selected u for 10k cash or #150 voucher. call 09064018838. ntt po box cro1327 18+ bt landline cost 150ppm mobiles vary gent! we are trying to contact you. last weekends draw shows that you won a å£1000 prize guaranteed. call 09064012160. claim code k52. valid 12hrs only. 150ppm as a valued customer, i am pleased to advise you that following recent review of your mob no. you are awarded with a å£1500 bonus prize, call 09066364589 eerie nokia tones 4u, rply tone title to 8007 eg tone dracula to 8007 titles: ghost, addamsfa, munsters, exorcist, twilight www.getzed.co.uk pobox36504w45wq 150p fancy a shag? i do.interested? sextextuk.com txt xxuk suzy to 69876. txts cost 1.50 per msg. tncs on website. x sms services. for your inclusive text credits, pls goto www.comuk.net login= ***** unsubscribe with stop. no extra charge. help:08700469649. po box420. ip4 5we urgent please call 09066612661 from landline. å£5000 cash or a luxury 4* canary islands holiday await collection. t&cs sae award. 20m12aq. 150ppm. 16+ \\x89ûï ur tonexs subscription has been renewed and you have been charged å£4.50. you can choose 10 more polys this month. www.clubzed.co.uk *billing msg* 5p 4 alfie moon\\'s children in need song on ur mob. tell ur m8s. txt tone charity to 8007 for nokias or poly charity for polys: zed 08701417012 profit 2 charity. final chance! claim ur å£150 worth of discount vouchers today! text yes to 85023 now! savamob, member offers mobile! t cs savamob pobox84, m263uz. å£3.00 subs 16 themob>yo yo yo-here comes a new selection of hot downloads for our members to get for free! just click & open the next link sent to ur fone... free>ringtone! reply real or poly eg real1 1. pushbutton 2. dontcha 3. babygoodbye 4. golddigger 5. webeburnin 1st tone free and 6 more when u join for å£3/wk freemsg: fancy a flirt? reply date now & join the uks fastest growing mobile dating service. msgs rcvd just 25p to optout txt stop to 83021. reply date now! congratulations! thanks to a good friend u have won the å£2,000 xmas prize. 2 claim is easy, just call 08718726971 now! only 10p per minute. bt-national-rate. sunshine hols. to claim ur med holiday send a stamped self address envelope to drinks on us uk, po box 113, bray, wicklow, eire. quiz starts saturday! unsub stop dear 0776xxxxxxx u\\'ve been invited to xchat. this is our final attempt to contact u! txt chat to 86688 150p/msgrcvdhg/suite342/2lands/row/w1j6hl ldn 18yrs  thanks for your ringtone order, ref number k718. your mobile will be charged å£4.50. should your tone not arrive please call customer services on 09065069120 camera - you are awarded a sipix digital camera! call 09061221066 fromm landline. delivery within 28 days. what do u want for xmas? how about 100 free text messages & a new video phone with half price line rental? call free now on 0800 0721072 to find out more! sorry i missed your call let\\'s talk when you have the time. i\\'m on 07090201529 congratulations ur awarded 500 of cd vouchers or 125gift guaranteed & free entry 2 100 wkly draw txt music to 87066 tncs www.ldew.com1win150ppmx3age16 free entry in 2 a wkly comp to win fa cup final tkts 21st may 2005. text fa to 87121 to receive entry question(std txt rate)t&c\\'s apply 08452810075over18\\'s do you want a new video phone? 600 anytime any network mins 400 inclusive video calls and downloads 5 per week free deltomorrow call 08002888812 or reply now call germany for only 1 pence per minute! call from a fixed line via access number 0844 861 85 85. no prepayment. direct access! someone has conacted our dating service and entered your phone because they fancy you!to find out who it is call from landline 09111030116. pobox12n146tf15 free msg:we billed your mobile number by mistake from shortcode 83332.please call 08081263000 to have charges refunded.this call will be free from a bt landline 8007 25p 4 alfie moon\\'s children in need song on ur mob. tell ur m8s. txt tone charity to 8007 for nokias or poly charity for polys :zed 08701417012 profit 2 charity  for ur chance to win a å£250 cash every wk txt: action to 80608. t\\'s&c\\'s www.movietrivia.tv custcare 08712405022, 1x150p/wk. dear u\\'ve been invited to xchat. this is our final attempt to contact u! txt chat to 86688 150p/msgrcvdhg/suite342/2lands/row/w1j6hl ldn 18 yrs thanks 4 your continued support your question this week will enter u in2 our draw 4 å£100 cash. name the new us president? txt ans to 80082 ringtone club: gr8 new polys direct to your mobile every week ! call freephone 0800 542 0578 now! congrats! 1 year special cinema pass for 2 is yours. call 09061209465 now! c suprman v, matrix3, starwars3, etc all 4 free! bx420-ip4-5we. 150pm. dont miss out! you are a å£1000 winner or guaranteed caller prize, this is our final attempt to contact you! to claim call 09071517866 now! 150ppmpobox10183bhamb64xe panasonic & bluetoothhdset free. nokia free. motorola free & doublemins & doubletxt on orange contract. call mobileupd8 on 08000839402 or call 2optout spjanuary male sale! hot gay chat now cheaper, call 08709222922. national rate from 1.5p/min cheap to 7.8p/min peak! to stop texts call 08712460324 (10p/min) u are subscribed to the best mobile content service in the uk for å£3 per ten days until you send stop to 83435. helpline 08706091795. hi 07734396839 ibh customer loyalty offer: the new nokia6600 mobile from only å£10 at txtauction!txt word:start to no:81151 & get yours now!4t& get 3 lions england tone, reply lionm 4 mono or lionp 4 poly. 4 more go 2 www.ringtones.co.uk, the original n best. tones 3gbp network operator rates apply. you are being contacted by our dating service by someone you know! to find out who it is, call from a land line 09050000878. pobox45w2tg150p someone u know has asked our dating service 2 contact you! cant guess who? call 09058091854 now all will be revealed. po box385 m6 6wu well done england! get the official poly ringtone or colour flag on yer mobile! text tone or flag to 84199 now! opt-out txt eng stop. box39822 w111wx å£1.50 urgent! please call 09061213237 from landline. å£5000 cash or a luxury 4* canary islands holiday await collection. t&cs sae po box 177. m227xy. 150ppm. 16+ xmas & new years eve tickets are now on sale from the club, during the day from 10am till 8pm, and on thurs, fri & sat night this week. they\\'re selling fast! urgent! your mobile no *********** won a å£2,000 bonus caller prize on 02/06/03! this is the 2nd attempt to reach you! call 09066362220 asap! box97n7qp, 150ppm natalja (25/f) is inviting you to be her friend. reply yes-440 or no-440 see her: www.sms.ac/u/nat27081980 stop? send stop frnd to 62468 you have an important customer service announcement from premier. call freephone 0800 542 0578 now! from www.applausestore.com monthlysubscription@50p/msg max6/month t&csc web age16 2stop txt stop phony å£350 award - todays voda numbers ending xxxx are selected to receive a å£350 award. if you have a match please call 08712300220 quoting claim code 3100 standard rates app oh my god! i\\'ve found your number again! i\\'m so glad, text me back xafter this msgs cst std ntwk chg å£1.50 double your mins & txts on orange or 1/2 price linerental - motorola and sonyericsson with b/tooth free-nokia free call mobileupd8 on 08000839402 or2optout/hv9d free entry in 2 a weekly comp for a chance to win an ipod. txt pod to 80182 to get entry (std txt rate) t&c\\'s apply 08452810073 for details 18+ 18 days to euro2004 kickoff! u will be kept informed of all the latest news and results daily. unsubscribe send get euro stop to 83222. 3 free tarot texts! find out about your love life now! try 3 for free! text chance to 85555 16 only! after 3 free, msgs å£1.50 each 87077: kick off a new season with 2wks free goals & news to ur mobile! txt ur club name to 87077 eg villa to 87077 urgent! we are trying to contact u todays draw shows that you have won a å£800 prize guaranteed. call 09050000460 from land line. claim j89. po box245c2150pm customer service announcement. we recently tried to make a delivery to you but were unable to do so, please call 07099833605 to re-schedule. ref:9280114 your unique user id is 1172. for removal send stop to 87239 customer services 08708034412 block breaker now comes in deluxe format with new features and great graphics from t-mobile. buy for just å£5 by replying get bbdeluxe and take the challenge you ve won! your 4* costa del sol holiday or å£5000 await collection. call 09050090044 now toclaim. sae, tc s, pobox334, stockport, sk38xh, costå£1.50/pm, max10mins free entry into our å£250 weekly comp just send the word enter to 84128 now. 18 t&c www.textcomp.com cust care 08712405020. pdate_now - double mins and 1000 txts on orange tariffs. latest motorola, sonyericsson & nokia & bluetooth free! call mobileupd8 on 08000839402 or call2optout/!yhl 85233 free>ringtone!reply real 2p per min to call germany 08448350055 from your bt line. just 2p per min. check planettalkinstant.com for info & t\\'s & c\\'s. text stop to opt out u have won a nokia 6230 plus a free digital camera. this is what u get when u win our free auction. to take part send nokia to 83383 now. pobox114/14tcr/w1 16 congratulations! thanks to a good friend u have won the å£2,000 xmas prize. 2 claim is easy, just call 08718726978 now! only 10p per minute. bt-national-rate xmas prize draws! we are trying to contact u. todays draw shows that you have won a å£2000 prize guaranteed. call 09058094565 from land line. valid 12hrs only private! your 2003 account statement for shows 800 un-redeemed s. i. m. points. call 08715203694 identifier code: 40533 expires 31/10/04 you are awarded a sipix digital camera! call 09061221061 from landline. delivery within 28days. t cs box177. m221bp. 2yr warranty. 150ppm. 16 . p på£3.99 congrats! 1 year special cinema pass for 2 is yours. call 09061209465 now! c suprman v, matrix3, starwars3, etc all 4 free! bx420-ip4-5we. 150pm. dont miss out!  for ur chance to win å£250 cash every wk txt: play to 83370. t\\'s&c\\'s www.music-trivia.net custcare 08715705022, 1x150p/wk. want to funk up ur fone with a weekly new tone reply tones2u 2 this text. www.ringtones.co.uk, the original n best. tones 3gbp network operator rates apply you are chosen to receive a å£350 award! pls call claim number 09066364311 to collect your award which you are selected to receive as a valued mobile customer. for ur chance to win a å£250 wkly shopping spree txt: shop to 80878. t\\'s&c\\'s www.txt-2-shop.com custcare 08715705022, 1x150p/wk you have 1 new message. please call 08715205273 someone u know has asked our dating service 2 contact you! cant guess who? call 09058095107 now all will be revealed. pobox 7, s3xy 150p  you have won a guaranteed 32000 award or maybe even å£1000 cash to claim ur award call free on 0800 ..... (18+). its a legitimat efreefone number wat do u think??? jamster! to get your free wallpaper text heart to 88888 now! t&c apply. 16 only. need help? call 08701213186. we tried to contact you re your reply to our offer of a video phone 750 anytime any network mins half price line rental camcorder reply or call 08000930705 you have been selected to stay in 1 of 250 top british hotels - for nothing! holiday worth å£350! to claim, call london 02072069400. bx 526, sw73ss you\\'ll not rcv any more msgs from the chat svc. for free hardcore services text go to: 69988 if u get nothing u must age verify with yr network & try again orange customer, you may now claim your free camera phone upgrade for your loyalty. call now on 0207 153 9996. offer ends 14thmarch. t&c\\'s apply. opt-out availa urgent! you have won a 1 week free membership in our å£100,000 prize jackpot! txt the word: claim to no: 81010 t&c www.dbuk.net lccltd pobox 4403ldnw1a7rw18 this weeks savamob member offers are now accessible. just call 08709501522 for details! savamob, pobox 139, la3 2wu. only å£1.50/week. savamob - offers mobile! sms services. for your inclusive text credits, pls goto www.comuk.net login= 3qxj9 unsubscribe with stop, no extra charge. help 08702840625.comuk. 220-cm2 9ae private! your 2003 account statement for shows 800 un-redeemed s. i. m. points. call 08715203652 identifier code: 42810 expires 29/10/0 free for 1st week! no1 nokia tone 4 ur mob every week just txt nokia to 8007 get txting and tell ur mates www.getzed.co.uk pobox 36504 w45wq norm150p/tone 16+ i don\\'t know u and u don\\'t know me. send chat to 86688 now and let\\'s find each other! only 150p/msg rcvd. hg/suite342/2lands/row/w1j6hl ldn. 18 years or over. ur ringtone service has changed! 25 free credits! go to club4mobiles.com to choose content now! stop? txt club stop to 87070. 150p/wk club4 po box1146 mk45 2wt message important information for o2 user. today is your lucky day! 2 find out why log onto http://www.urawinner.com there is a fantastic surprise awaiting you important message. this is a final contact attempt. you have important messages waiting out our customer claims dept. expires 13/4/04. call 08717507382 now! january male sale! hot gay chat now cheaper, call 08709222922. national rate from 1.5p/min cheap to 7.8p/min peak! to stop texts call 08712460324 (10p/min) well done england! get the official poly ringtone or colour flag on yer mobile! text tone or flag to 84199 now! opt-out txt eng stop. box39822 w111wx å£1.50 urgent! your mobile number has been awarded with a å£2000 prize guaranteed. call 09058094454 from land line. claim 3030. valid 12hrs only want a new video phone? 750 anytime any network mins? half price line rental free text for 3 months? reply or call 08000930705 for free delivery ur cash-balance is currently 500 pounds - to maximize ur cash-in now send go to 86688 only 150p/msg. cc 08718720201 hg/suite342/2lands row/w1j6hl update_now - 12mths half price orange line rental: 400mins...call mobileupd8 on 08000839402 or call2optout=j5q ou are guaranteed the latest nokia phone, a 40gb ipod mp3 player or a å£500 prize! txt word: collect to no: 83355! ibhltd ldnw15h 150p/mtmsgrcvd18 had your contract mobile 11 mnths? latest motorola, nokia etc. all free! double mins & text on orange tariffs. text yes for callback, no to remove from records summers finally here! fancy a chat or flirt with sexy singles in yr area? to get matched up just reply summer now. free 2 join. optout txt stop help08714742804 urgent! we are trying to contact u. todays draw shows that you have won a å£800 prize guaranteed. call 09050003091 from land line. claim c52. valid 12hrs only ree entry in 2 a weekly comp for a chance to win an ipod. txt pod to 80182 to get entry (std txt rate) t&c\\'s apply 08452810073 for details 18+ our mobile number has won å£5000, to claim calls us back or ring the claims hot line on 09050005321. +123 congratulations - in this week\\'s competition draw u have won the å£1450 prize to claim just call 09050002311 b4280703. t&cs/stop sms 08718727868. over 18 only 150ppm for sale - arsenal dartboard. good condition but no doubles or trebles! had your mobile 10 mths? update to the latest camera/video phones for free. keep ur same number, get extra free mins/texts. text yes for a call freemsg: claim ur 250 sms messages-text ok to 84025 now!use web2mobile 2 ur mates etc. join txt250.com for 1.50p/wk. t&c box139, la32wu. 16 . remove txtx or stop call from 08702490080 - tells u 2 call 09066358152 to claim å£5000 prize. u have 2 enter all ur mobile & personal details @ the prompts. careful! wan2 win a meet+greet with westlife 4 u or a m8? they are currently on what tour? 1)unbreakable, 2)untamed, 3)unkempt. text 1,2 or 3 to 83049. cost 50p +std text great new offer - double mins & double txt on best orange tariffs and get latest camera phones 4 free! call mobileupd8 free on 08000839402 now! or 2stoptxt t&cs we tried to contact you re your reply to our offer of a video handset? 750 anytime any networks mins? unlimited text? camcorder? reply or call 08000930705 now urgent ur awarded a complimentary trip to eurodisinc trav, aco&entry41 or å£1000. to claim txt dis to 87121 18+6*å£1.50(morefrmmob. shracomorsglsuplt)10, ls1 3aj reply with your name and address and you will receive by post a weeks completely free accommodation at various global locations www.phb1.com ph:08700435505150p your weekly cool-mob tones are ready to download !this weeks new tones include: 1) crazy frog-axel f>>> 2) akon-lonely>>> 3) black eyed-dont p >>>more info in n freemsg>fav xmas tones!reply real recpt 1/3. you have ordered a ringtone. your order is being processed... urgent! your mobile number has been awarded with a å£2000 prize guaranteed. call 09058094455 from land line. claim 3030. valid 12hrs only free video camera phones with half price line rental for 12 mths and 500 cross ntwk mins 100 txts. call mobileupd8 08001950382 or call2optout/674 last chance 2 claim ur å£150 worth of discount vouchers-text yes to 85023 now!savamob-member offers mobile t cs 08717898035. å£3.00 sub. 16 . remove txt x or stop double mins & double txt & 1/2 price linerental on latest orange bluetooth mobiles. call mobileupd8 for the very latest offers. 08000839402 or call2optout/lf56 december only! had your mobile 11mths+? you are entitled to update to the latest colour camera mobile for free! call the mobile update co free on 08002986906 <forwarded from 88877>free entry into our å£250 weekly comp just send the word enter to 88877 now. 18 t&c www.textcomp.com sexy sexy cum and text me im wet and warm and ready for some porn! u up for some fun? this msg is free recd msgs 150p inc vat 2 cancel text stop i am hot n horny and willing i live local to you - text a reply to hear strt back from me 150p per msg netcollex ltdhelpdesk: 02085076972 reply stop to end hottest pics straight to your phone!! see me getting wet and wanting, just for you xx text pics to 89555 now! txt costs 150p textoperator g696ga 18 xxx we currently have a message awaiting your collection. to collect your message just call 08718723815. goldviking (29/m) is inviting you to be his friend. reply yes-762 or no-762 see him: www.sms.ac/u/goldviking stop? send stop frnd to 62468 you have 1 new voicemail. please call 08719181513. how about getting in touch with folks waiting for company? just txt back your name and age to opt in! enjoy the community (150p/sms) free msg. sorry, a service you ordered from 81303 could not be delivered as you do not have sufficient credit. please top up to receive the service. reminder from o2: to get 2.50 pounds free call credit and details of great offers pls reply 2 this text with your valid name, house no and postcode this is the 2nd attempt to contract u, you have won this weeks top prize of either å£1000 cash or å£200 prize. just call 09066361921 u can win å£100 of music gift vouchers every week starting now txt the word draw to 87066 tscs www.idew.com skillgame, 1winaweek, age16. 150ppermesssubscription claire here am havin borin time & am now alone u wanna cum over 2nite? chat now 09099725823 hope 2 c u luv claire xx callså£1/minmoremobsemspobox45po139wa money!!! you r a lucky winner ! 2 claim your prize text money 2 88600 over å£1million to give away ! ppt150x3+normal text rate box403 w1t1jy 83039 62735=å£450 uk break accommodationvouchers terms & conditions apply. 2 claim you mustprovide your claim number which is 15541  call 09095350301 and send our girls into erotic ecstacy. just 60p/min. to stop texts call 08712460324 (nat rate) win a year supply of cds 4 a store of ur choice worth å£500 & enter our å£100 weekly draw txt music to 87066 ts&cs www.ldew.com.subs16+1win150ppmx3 we tried to contact you re your reply to our offer of a video handset? 750 anytime networks mins? unlimited text? camcorder? reply or call 08000930705 now orange brings you ringtones from all time chart heroes, with a free hit each week! go to ringtones & pics on wap. to stop receiving these tips reply stop. freemsg you have been awarded a free mini digital camera, just reply snap to collect your prize! (quizclub opt out? stop 80122300p/wk sp:rwm ph:08704050406) moby pub quiz.win a å£100 high street prize if u know who the new duchess of cornwall will be? txt her first name to 82277.unsub stop å£1.50 008704050406 sp valentines day special! win over å£1000 in our quiz and take your partner on the trip of a lifetime! send go to 83600 now. 150p/msg rcvd. custcare:08718720201 reminder: you have not downloaded the content you have already paid for. goto http://doit. mymoby. tv/ to collect your content. 22 days to kick off! for euro2004 u will be kept up to date with the latest news and results daily. to be removed send get txt stop to 83222 free entry in 2 a weekly comp for a chance to win an ipod. txt pod to 80182 to get entry (std txt rate) t&c\\'s apply 08452810073 for details 18+ eerie nokia tones 4u, rply tone title to 8007 eg tone dracula to 8007 titles: ghost, addamsfa, munsters, exorcist, twilight www.getzed.co.uk pobox36504w45wq 150p  our brand new mobile music service is now live. the free music player will arrive shortly. just install on your phone to browse content from the top artists. xmas iscoming & ur awarded either å£500 cd gift vouchers & free entry 2 r å£100 weekly draw txt music to 87066 tnc www.ldew.com1win150ppmx3age16subscription  you will recieve your tone within the next 24hrs. for terms and conditions please see channel u teletext pg 750 want the latest video handset? 750 anytime any network mins? half price line rental? reply or call 08000930705 for delivery tomorrow private! your 2003 account statement for 07753741225 shows 800 un-redeemed s. i. m. points. call 08715203677 identifier code: 42478 expires 24/10/04 urgent!! your 4* costa del sol holiday or å£5000 await collection. call 09050090044 now toclaim. sae, tc s, pobox334, stockport, sk38xh, costå£1.50/pm, max10mins ur cash-balance is currently 500 pounds - to maximize ur cash-in now send go to 86688 only 150p/meg. cc: 08718720201 hg/suite342/2lands row/w1j6hl hi ya babe x u 4goten bout me?\\' scammers getting smart..though this is a regular vodafone no, if you respond you get further prem rate msg/subscription. other nos used also. beware! got what it takes 2 take part in the wrc rally in oz? u can with lucozade energy! text rally le to 61200 (25p), see packs or lucozade.co.uk/wrc & itcould be u! great new offer - double mins & double txt on best orange tariffs and get latest camera phones 4 free! call mobileupd8 free on 08000839402 now! or 2stoptxt t&cs congratulations ur awarded either å£500 of cd gift vouchers & free entry 2 our å£100 weekly draw txt music to 87066 tncs www.ldew.com 1 win150ppmx3age16 mobile club: choose any of the top quality items for your mobile. 7cfca1a please call 08712402779 immediately as there is an urgent message waiting for you ur cash-balance is currently 500 pounds - to maximize ur cash-in now send cash to 86688 only 150p/msg. cc: 08718720201 po box 114/14 tcr/w1 hi babe its jordan, how r u? im home from abroad and lonely, text me back if u wanna chat xxsp visionsms.com text stop to stopcost 150p 08712400603 shop till u drop, is it you, either 10k, 5k, å£500 cash or å£100 travel voucher, call now, 09064011000. ntt po box cr01327bt fixedline cost 150ppm mobile vary urgent! we are trying to contact u. todays draw shows that you have won a å£2000 prize guaranteed. call 09058094507 from land line. claim 3030. valid 12hrs only moby pub quiz.win a å£100 high street prize if u know who the new duchess of cornwall will be? txt her first name to 82277.unsub stop å£1.50 008704050406 sp arrow you have won a guaranteed å£1000 cash or a å£2000 prize. to claim yr prize call our customer service representative on 08714712412 between 10am-7pm cost 10p do you want 750 anytime any network mins 150 text and a new video phone for only five pounds per week call 08002888812 or reply for delivery tomorrow get a brand new mobile phone by being an agent of the mob! plus loads more goodies! for more info just text mat to 87021. urgent! call 09066350750 from your landline. your complimentary 4* ibiza holiday or 10,000 cash await collection sae t&cs po box 434 sk3 8wp 150 ppm 18+ free top ringtone -sub to weekly ringtone-get 1st week free-send subpoly to 81618-?3 per week-stop sms-08718727870 this is the 2nd time we have tried 2 contact u. u have won the 750 pound prize. 2 claim is easy, call 08712101358 now! only 10p per min. bt-national-rate bears pic nick, and tom, pete and ... dick. in fact, all types try gay chat with photo upload call 08718730666 (10p/min). 2 stop texts call 08712460324 money i have won wining number 946 wot do i do next free unlimited hardcore porn direct 2 your mobile txt porn to 69200 & get free access for 24 hrs then chrgd@50p per day txt stop 2exit. this msg is free private! your 2003 account statement for 07808 xxxxxx shows 800 un-redeemed s. i. m. points. call 08719899217 identifier code: 41685 expires 07/11/04 please call our customer service representative on freephone 0808 145 4742 between 9am-11pm as you have won a guaranteed å£1000 cash or å£5000 prize! thanks for your ringtone order, ref number r836. your mobile will be charged å£4.50. should your tone not arrive please call customer services on 09065069154 will u meet ur dream partner soon? is ur career off 2 a flyng start? 2 find out free, txt horo followed by ur star sign, e. g. horo aries free 1st week entry 2 textpod 4 a chance 2 win 40gb ipod or å£250 cash every wk. txt vpod to 81303 ts&cs www.textpod.net custcare 08712405020. thanks for your ringtone order, reference number x29. your mobile will be charged 4.50. should your tone not arrive please call customer services 09065989180 tells u 2 call 09066358152 to claim å£5000 prize. u have 2 enter all ur mobile & personal details @ the prompts. careful! text82228>> get more ringtones, logos and games from www.txt82228.com. questions: info@txt82228.co.uk free for 1st week! no1 nokia tone 4 ur mob every week just txt nokia to 87077 get txting and tell ur mates. zed pobox 36504 w45wq norm150p/tone 16+ do you want a new nokia 3510i colour phone delivered tomorrow? with 200 free minutes to any mobile + 100 free text + free camcorder reply or call 8000930705 thanks for the vote. now sing along with the stars with karaoke on your mobile. for a free link just reply with sing now. hot live fantasies call now 08707509020 just 20p per min ntt ltd, po box 1327 croydon cr9 5wb 0870..k upgrdcentre orange customer, you may now claim your free camera phone upgrade for your loyalty. call now on 0207 153 9153. offer ends 26th july. t&c\\'s apply. opt-out available text & meet someone sexy today. u can find a date or even flirt its up to u. join 4 just 10p. reply with name & age eg sam 25. 18 -msg recd@thirtyeight pence you have an important customer service announcement. call freephone 0800 542 0825 now! got what it takes 2 take part in the wrc rally in oz? u can with lucozade energy! text rally le to 61200 (25p), see packs or lucozade.co.uk/wrc & itcould be u! hot live fantasies call now 08707509020 just 20p per min ntt ltd, po box 1327 croydon cr9 5wb 0870 is a national rate call you have been specially selected to receive a \\\\3000 award! call 08712402050 before the lines close. cost 10ppm. 16+. t&cs apply. ag promo\" urgent! your mobile number has been awarded with a å£2000 bonus caller prize. call 09058095201 from land line. valid 12hrs only please call our customer service representative on freephone 0808 145 4742 between 9am-11pm as you have won a guaranteed å£1000 cash or å£5000 prize! you have 1 new message. please call 08712400200. important information 4 orange user 0796xxxxxx. today is ur lucky day!2 find out why log onto http://www.urawinner.com there\\'s a fantastic prizeawaiting you! free for 1st week! no1 nokia tone 4 ur mob every week just txt nokia to 8007 get txting and tell ur mates www.getzed.co.uk pobox 36504 w45wq norm150p/tone 16+ accordingly. i repeat, just text the word ok on your mobile phone and send urgent! your mobile number has been awarded with a å£2000 prize guaranteed. call 09061790126 from land line. claim 3030. valid 12hrs only 150ppm you are being contacted by our dating service by someone you know! to find out who it is, call from a land line 09050000928. pobox45w2tg150p talk sexy!! make new friends or fall in love in the worlds most discreet text dating service. just text vip to 83110 and see who you could meet. back 2 work 2morro half term over! can u c me 2nite 4 some sexy passion b4 i have 2 go back? chat now 09099726481 luv dena calls å£1/minmobsmorelkpobox177hp51fl bought one ringtone and now getting texts costing 3 pound offering more tones etc splashmobile: choose from 1000s of gr8 tones each wk! this is a subscrition service with weekly tones costing 300p. u have one credit - kick back and enjoy you are a winner you have been specially selected to receive å£1000 cash or a å£2000 award. speak to a live operator to claim call 087123002209am-7pm. cost 10p as a sim subscriber, you are selected to receive a bonus! get it delivered to your door, txt the word ok to no: 88600 to claim. 150p/msg, exp. 30apr please call our customer service representative on 0800 169 6031 between 10am-9pm as you have won a guaranteed å£1000 cash or å£5000 prize! santa calling! would your little ones like a call from santa xmas eve? call 09058094583 to book your time. someone has contacted our dating service and entered your phone because they fancy you! to find out who it is call from a landline 09111032124 . pobox12n146tf150p urgent! your mobile no 07808726822 was awarded a å£2,000 bonus caller prize on 02/09/03! this is our 2nd attempt to contact you! call 0871-872-9758 box95qu dear voucher holder have your next meal on us. use the following link on your pc 2 enjoy a 2 4 1 dining experiencehttp://www.vouch4me.com/etlp/dining.asp hard live 121 chat just 60p/min. choose your girl and connect live. call 09094646899 now! cheap chat uk\\'s biggest live service. vu bcm1896wc1n3xx you have won a nokia 7250i. this is what you get when you win our free auction. to take part send nokia to 86021 now. hg/suite342/2lands row/w1jhl 16+  win a å£200 shopping spree every week starting now. 2 play text store to 88039. skilgme. tscs08714740323 1winawk! age16 å£1.50perweeksub. congrats! 2 mobile 3g videophones r yours. call 09063458130 now! videochat wid your mates, play java games, dload polyph music, noline rentl. <forwarded from 448712404000>please call 08712404000 immediately as there is an urgent message waiting for you. guess who am i?this is the first time i created a web page www.asjesus.com read all i wrote. i\\'m waiting for your opinions. i want to be your friend 1/1 hope you enjoyed your new content. text stop to 61610 to unsubscribe. help:08712400602450p provided by tones2you.co.uk cmon babe, make me horny, *turn* me on! txt me your fantasy now babe -) im hot, sticky and need you now. all replies cost å£1.50. 2 cancel send stop you have 1 new message. call 0207-083-6089 guess what! somebody you know secretly fancies you! wanna find out who it is? give us a call on 09065394973 from landline datebox1282essexcm61xn 150p/min 18 u have a secret admirer who is looking 2 make contact with u-find out who they r*reveal who thinks ur so special-call on 09058094599 -pls stop bootydelious (32/f) is inviting you to be her friend. reply yes-434 or no-434 see her: www.sms.ac/u/bootydelious stop? send stop frnd to 62468 xmas offer! latest motorola, sonyericsson & nokia & free bluetooth or dvd! double mins & 1000 txt on orange. call mobileupd8 on 08000839402 or call2optout/4qf2 dear voucher holder, to claim this weeks offer, at you pc please go to http://www.e-tlp.co.uk/reward. ts&cs apply. \\\\urgent! this is the 2nd attempt to contact u!u have won å£1000call 09071512432 b4 300603t&csbcm4235wc1n3xx.callcost150ppmmobilesvary. maxå£7. 50\\\\\"\" u r a winner u ave been specially selected 2 receive å£1000 cash or a 4* holiday (flights inc) speak to a live operator 2 claim 0871277810710p/min (18 ) sms auction you have won a nokia 7250i. this is what you get when you win our free auction. to take part send nokia to 86021 now. hg/suite342/2lands row/w1jhl 16+ free video camera phones with half price line rental for 12 mths and 500 cross ntwk mins 100 txts. call mobileupd8 08001950382 or call2optout/674& latest nokia mobile or ipod mp3 player +å£400 proze guaranteed! reply with: win to 83355 now! norcorp ltd.å£1,50/mtmsgrcvd18+ someone u know has asked our dating service 2 contact you! cant guess who? call 09058091854 now all will be revealed. po box385 m6 6wu urgent ur awarded a complimentary trip to eurodisinc trav, aco&entry41 or å£1000. to claim txt dis to 87121 18+6*å£1.50(morefrmmob. shracomorsglsuplt)10, ls1 3aj december only! had your mobile 11mths+? you are entitled to update to the latest colour camera mobile for free! call the mobile update vco free on 08002986906  you ve won! your 4* costa del sol holiday or å£5000 await collection. call 09050090044 now toclaim. sae, tc s, pobox334, stockport, sk38xh, costå£1.50/pm, max10mins you 07801543489 are guaranteed the latests nokia phone, a 40gb ipod mp3 player or a å£500 prize! txt word:collect to no:83355! tc-llc ny-usa 150p/mt msgrcvd18+ babe: u want me dont u baby! im nasty and have a thing 4 filthyguys. fancy a rude time with a sexy bitch. how about we go slo n hard! txt xxx slo(4msgs) 1000\\'s of girls many local 2 u who r virgins 2 this & r ready 2 4fil ur every sexual need. can u 4fil theirs? text cute to 69911(å£1.50p. m) themob>hit the link to get a premium pink panther game, the new no. 1 from sugababes, a crazy zebra animation or a badass hoody wallpaper-all 4 free! you are a winner u have been specially selected 2 receive å£1000 cash or a 4* holiday (flights inc) speak to a live operator 2 claim 0871277810810 bored housewives! chat n date now! 0871750.77.11! bt-national rate 10p/min only from landlines! hi 07734396839 ibh customer loyalty offer: the new nokia6600 mobile from only å£10 at txtauction!txt word:start to no:81151 & get yours now!4t& wanna get laid 2nite? want real dogging locations sent direct to ur mobile? join the uk\\'s largest dogging network. txt park to 69696 now! nyt. ec2a. 3lp å£1.50/msg for taking part in our mobile survey yesterday! you can now have 500 texts 2 use however you wish. 2 get txts just send txt to 80160 t&c www.txt43.com 1.50p freemsg: txt: call to no: 86888 & claim your reward of 3 hours talk time to use from your phone now! subscribe6gbp/mnth inc 3hrs 16 stop?txtstop you have won ?1,000 cash or a ?2,000 prize! to claim, call09050000327. t&c: rstm, sw7 3ss. 150ppm important information 4 orange user . today is your lucky day!2find out why log onto http://www.urawinner.com there\\'s a fantastic surprise awaiting you! get ur 1st ringtone free now! reply to this msg with tone. gr8 top 20 tones to your phone every week just å£1.50 per wk 2 opt out send stop 08452810071 16 urgent! we are trying to contact you. last weekends draw shows that you have won a å£900 prize guaranteed. call 09061701851. claim code k61. valid 12hours only 09066362231 urgent! your mobile no 07xxxxxxxxx won a å£2,000 bonus caller prize on 02/06/03! this is the 2nd attempt to reach you! call 09066362231 asap! want explicit sex in 30 secs? ring 02073162414 now! costs 20p/min had your contract mobile 11 mnths? latest motorola, nokia etc. all free! double mins & text on orange tariffs. text yes for callback, no to remove from records. dear u\\'ve been invited to xchat. this is our final attempt to contact u! txt chat to 86688 urgent! your mobile no 077xxx won a å£2,000 bonus caller prize on 02/06/03! this is the 2nd attempt to reach you! call 09066362206 asap! box97n7qp, 150ppm asked 3mobile if 0870 chatlines inclu in free mins. india cust servs sed yes. l8er got mega bill. 3 dont giv a shit. bailiff due in days. i o å£250 3 want å£800 you have 1 new voicemail. please call 08719181503 i want some cock! my hubby\\'s away, i need a real man 2 satisfy me. txt wife to 89938 for no strings action. (txt stop 2 end, txt rec å£1.50ea. otbox 731 la1 7ws. ) spook up your mob with a halloween collection of a logo & pic message plus a free eerie tone, txt card spook to 8007 zed 08701417012150p per logo/pic urgent! your mobile no 07xxxxxxxxx won a å£2,000 bonus caller prize on 02/06/03! this is the 2nd attempt to reach you! call 09066362231 asap! box97n7qp, 150ppm had your mobile 10 mths? update to latest orange camera/video phones for free. save å£s with free texts/weekend calls. text yes for a callback orno to opt out free 1st week entry 2 textpod 4 a chance 2 win 40gb ipod or å£250 cash every wk. txt pod to 84128 ts&cs www.textpod.net custcare 08712405020. urgent! we are trying to contact u. todays draw shows that you have won a å£2000 prize guaranteed. call 09066358361 from land line. claim y87. valid 12hrs only 5 free top polyphonic tones call 087018728737, national rate. get a toppoly tune sent every week, just text subpoly to 81618, å£3 per pole. unsub 08718727870. we tried to call you re your reply to our sms for a video mobile 750 mins unlimited text + free camcorder reply of call 08000930705 now free2day sexy st george\\'s day pic of jordan!txt pic to 89080 dont miss out, then every wk a saucy celeb!4 more pics c pocketbabe.co.uk 0870241182716 å£3/wk 07732584351 - rodger burns - msg = we tried to call you re your reply to our sms for a free nokia mobile + free camcorder. please call now 08000930705 for delivery tomorrow six chances to win cash! from 100 to 20,000 pounds txt> csh11 and send to 87575. cost 150p/day, 6days, 16+ tsandcs apply reply hl 4 info your b4u voucher w/c 27/03 is marsms. log onto www.b4utele.com for discount credit. to opt out reply stop. customer care call 08717168528 urgent! we are trying to contact u. todays draw shows that you have won a å£800 prize guaranteed. call 09050001808 from land line. claim m95. valid12hrs only sms. ac blind date 4u!: rodds1 is 21/m from aberdeen, united kingdom. check him out http://img. sms. ac/w/icmb3cktz8r7!-4 no blind dates send hide 500 free text msgs. just text ok to 80488 and we\\'ll credit your account 0a$networks allow companies to bill for sms, so they are responsible for their \\\\suppliers\\\\\" urgent! last weekend\\'s draw shows that you have won å£1000 cash or a spanish holiday! call now 09050000332 to claim. t&c: rstm, sw7 3ss. 150ppm important information 4 orange user 0789xxxxxxx. today is your lucky day!2find out why log onto http://www.urawinner.com there\\'s a fantastic surprise awaiting you! send a logo 2 ur lover - 2 names joined by a heart. txt love name1 name2 mobno eg love adam eve 07123456789 to 87077 yahoo! pobox36504w45wq txtno 4 no ads 150p. you have won a nokia 7250i. this is what you get when you win our free auction. to take part send nokia to 86021 now. hg/suite342/2lands row/w1jhl 16+ ur balance is now å£500. ur next question is: who sang \\'uptown girl\\' in the 80\\'s ? 2 answer txt ur answer to 83600. good luck! our records indicate u maybe entitled to 5000 pounds in compensation for the accident you had. to claim 4 free reply with claim to this msg. 2 stop txt stop congratulations u can claim 2 vip row a tickets 2 c blu in concert in november or blu gift guaranteed call 09061104276 to claim ts&cs www.smsco.net costå£3.75max  44 7732584351, do you want a new nokia 3510i colour phone deliveredtomorrow? with 300 free minutes to any mobile + 100 free texts + free camcorder reply or call 08000930705. boltblue tones for 150p reply poly# or mono# eg poly3 1. cha cha slide 2. yeah 3. slow jamz 6. toxic 8. come with me or stop 4 more tones txt more 74355 xmas iscoming & ur awarded either å£500 cd gift vouchers & free entry 2 r å£100 weekly draw txt music to 87066 tnc win the newest \\x89ûïharry potter and the order of the phoenix (book 5) reply harry, answer 5 questions - chance to be the first among readers! dorothy@kiefer.com (bank of granite issues strong-buy) explosive pick for our members *****up over 300% *********** nasdaq symbol cdgt that is a $5.00 per.. had your mobile 11mths ? update for free to oranges latest colour camera mobiles & unlimited weekend calls. call mobile upd8 on freefone 08000839402 or 2stoptx you are being ripped off! get your mobile content from www.clubmoby.com call 08717509990 poly/true/pix/ringtones/games six downloads for only 3 check out choose your babe videos @ sms.shsex.netun fgkslpopw fgkslpo more people are dogging in your area now. call 09090204448 and join like minded guys. why not arrange 1 yourself. there\\'s 1 this evening. aå£1.50 minapn ls278bb freemsg hi baby wow just got a new cam moby. wanna c a hot pic? or fancy a chat?im w8in 4utxt / rply chat to 82242 hlp 08712317606 msg150p 2rcv free nokia or motorola with upto 12mths 1/2price linerental, 500 free x-net mins&100txt/mth free b\\'tooth*. call mobileupd8 on 08001950382 or call 2optout/d3wv get 3 lions england tone, reply lionm 4 mono or lionp 4 poly. 4 more go 2 www.ringtones.co.uk, the original n best. tones 3gbp network operator rates apply you can donate å£2.50 to unicef\\'s asian tsunami disaster support fund by texting donate to 864233. å£2.50 will be added to your next bill you have won ?1,000 cash or a ?2,000 prize! to claim, call09050000327 hi this is amy, we will be sending you a free phone number in a couple of days, which will give you an access to all the adult parties... ringtone club: get the uk singles chart on your mobile each week and choose any top quality ringtone! this message is free of charge. todays vodafone numbers ending with 4882 are selected to a receive a å£350 award. if your number matches call 09064019014 to receive your å£350 award. urgent! we are trying to contact u. todays draw shows that you have won a å£800 prize guaranteed. call 09050001808 from land line. claim m95. valid12hrs only http//tms. widelive.com/index. wml?id=820554ad0a1705572711&first=trueåác c ringtoneåá thanks for your ringtone order, reference t91. you will be charged gbp 4 per week. you can unsubscribe at anytime by calling customer services on 09057039994 urgent this is our 2nd attempt to contact u. your å£900 prize from yesterday is still awaiting collection. to claim call now 09061702893 you have won a nokia 7250i. this is what you get when you win our free auction. to take part send nokia to 86021 now. hg/suite342/2lands row/w1jhl 16+ sorry! u can not unsubscribe yet. the mob offer package has a min term of 54 weeks> pls resubmit request after expiry. reply themob help 4 more info network operator. the service is free. for t & c\\'s visit 80488.biz reply to win å£100 weekly! where will the 2006 fifa world cup be held? send stop to 87239 to end service customer service annoncement. you have a new years delivery waiting for you. please call 07046744435 now to arrange delivery had your mobile 11mths ? update for free to oranges latest colour camera mobiles & unlimited weekend calls. call mobile upd8 on freefone 08000839402 or 2stoptxt think ur smart ? win å£200 this week in our weekly quiz, text play to 85222 now!t&cs winnersclub po box 84, m26 3uz. 16+. gbp1.50/week am new 2 club & dont fink we met yet will b gr8 2 c u please leave msg 2day wiv ur area 09099726553 reply promised carlie x callså£1/minmobsmore lkpobox177hp51fl a link to your picture has been sent. you can also use http://alto18.co.uk/wave/wave.asp?o=44345 you are guaranteed the latest nokia phone, a 40gb ipod mp3 player or a å£500 prize! txt word: collect to no: 83355! ibhltd ldnw15h 150p/mtmsgrcvd18+ hard live 121 chat just 60p/min. choose your girl and connect live. call 09094646899 now! cheap chat uk\\'s biggest live service. vu bcm1896wc1n3xx you have an important customer service announcement. call freephone 0800 542 0825 now! save money on wedding lingerie at www.bridal.petticoatdreams.co.uk choose from a superb selection with national delivery. brought to you by weddingfriend romcapspam everyone around should be responding well to your presence since you are so warm and outgoing. you are bringing in a real breath of sunshine. dear voucher holder, 2 claim this weeks offer, at your pc go to http://www.e-tlp.co.uk/expressoffer ts&cs apply.2 stop texts txt stop to 80062. shop till u drop, is it you, either 10k, 5k, å£500 cash or å£100 travel voucher, call now, 09064011000. ntt po box cr01327bt fixedline cost 150ppm mobile vary ur going 2 bahamas! callfreefone 08081560665 and speak to a live operator to claim either bahamas cruise ofå£2000 cash 18+only. to opt out txt x to 07786200117 congrats! nokia 3650 video camera phone is your call 09066382422 calls cost 150ppm ave call 3mins vary from mobiles 16+ close 300603 post bcm4284 ldn wc1n3xx goal! arsenal 4 (henry, 7 v liverpool 2 henry scores with a simple shot from 6 yards from a pass by bergkamp to give arsenal a 2 goal margin after 78 mins. you have been specially selected to receive a 2000 pound award! call 08712402050 before the lines close. cost 10ppm. 16+. t&cs apply. ag promo private! your 2003 account statement for shows 800 un-redeemed s. i. m. points. call 08718738002 identifier code: 48922 expires 21/11/04 4mths half price orange line rental & latest camera phones 4 free. had your phone 11mths ? call mobilesdirect free on 08000938767 to update now! or2stoptxt your chance to be on a reality fantasy show call now = 08707509020 just 20p per min ntt ltd, po box 1327 croydon cr9 5wb 0870 is a national = rate call collect your valentine\\'s weekend to paris inc flight & hotel + å£200 prize guaranteed! text: paris to no: 69101. www.rtf.sphosting.com great news! call freefone 08006344447 to claim your guaranteed å£1000 cash or å£2000 gift. speak to a live operator now! free msg: ringtone!from: http://tms. widelive.com/index. wml?id=1b6a5ecef91ff9*37819&first=true18:0430-jul-05 new mobiles from 2004, must go! txt: nokia to no: 89545 & collect yours today! from only å£1. www.4-tc.biz 2optout 087187262701.50gbp/mtmsg18 txtauction. \\\\for the most sparkling shopping breaks from 45 per person; call 0121 2025050 or visit www.shortbreaks.org.uk\\\\\"\" 3. you have received your mobile content. enjoy you\\'ve won tkts to the euro2004 cup final or å£800 cash, to collect call 09058099801 b4190604, pobox 7876150ppm hmv bonus special 500 pounds of genuine hmv vouchers to be won. just answer 4 easy questions. play now! send hmv to 86688 more info:www.100percent-real.com today\\'s offer! claim ur å£150 worth of discount vouchers! text yes to 85023 now! savamob, member offers mobile! t cs 08717898035. å£3.00 sub. 16 . unsub reply x for ur chance to win a å£250 wkly shopping spree txt: shop to 80878. t\\'s&c\\'s www.txt-2-shop.com custcare 08715705022, 1x150p/wk complimentary 4 star ibiza holiday or å£10,000 cash needs your urgent collection. 09066364349 now from landline not to lose out! box434sk38wp150ppm18+ claim a 200 shopping spree, just call 08717895698 now! have you won! mobstorequiz10ppm this is the 2nd time we have tried to contact u. u have won the å£400 prize. 2 claim is easy, just call 087104711148 now! only 10p per minute. bt-national-rate all the lastest from stereophonics, marley, dizzee racal, libertines and the strokes! win nookii games with flirt!! click themob wap bookmark or text wap to 82468 urgent ur å£500 guaranteed award is still unclaimed! call 09066368327 now closingdate04/09/02 claimcode m39m51 å£1.50pmmorefrommobile2bremoved-mobypobox734ls27yf please call 08712402902 immediately as there is an urgent message waiting for you. as one of our registered subscribers u can enter the draw 4 a 100 g.b. gift voucher by replying with enter. to unsubscribe text stop sunshine quiz wkly q! win a top sony dvd player if u know which country the algarve is in? txt ansr to 82277. å£1.50 sp:tyrone do you want a new nokia 3510i colour phone deliveredtomorrow? with 300 free minutes to any mobile + 100 free texts + free camcorder reply or call 08000930705. free entry in 2 a wkly comp to win fa cup final tkts 21st may 2005. text fa to 87121 to receive entry question(std txt rate)t&c\\'s apply 08452810075over18\\'s today\\'s offer! claim ur å£150 worth of discount vouchers! text yes to 85023 now! savamob, member offers mobile! t cs 08717898035. å£3.00 sub. 16 . unsub reply x new textbuddy chat 2 horny guys in ur area 4 just 25p free 2 receive search postcode or at gaytextbuddy.com. txt one name to 89693. 08715500022 rpl stop 2 cnl as a registered subscriber yr draw 4 a å£100 gift voucher will b entered on receipt of a correct ans. when are the next olympics. txt ans to 80062 free2day sexy st george\\'s day pic of jordan!txt pic to 89080 dont miss out, then every wk a saucy celeb!4 more pics c pocketbabe.co.uk 0870241182716 å£3/wk hungry gay guys feeling hungry and up 4 it, now. call 08718730555 just 10p/min. to stop texts call 08712460324 (10p/min) urgent we are trying to contact you last weekends draw shows u have won a å£1000 prize guaranteed call 09064017295 claim code k52 valid 12hrs 150p pm burger king - wanna play footy at a top stadium? get 2 burger king before 1st sept and go large or super with coca-cola and walk out a winner urgent. important information for 02 user. today is your lucky day! 2 find out why , log onto http://www.urawinner.com there is a fantastic surprise awaiting you ! get your garden ready for summer with a free selection of summer bulbs and seeds worth å£33:50 only with the scotsman this saturday. to stop go2 notxt.co.uk dear matthew please call 09063440451 from a landline, your complimentary 4*lux tenerife holiday or å£1000 cash await collection. ppm150 sae t&cs box334 sk38xh. sms services for your inclusive text credits pls gotto www.comuk.net login 3qxj9 unsubscribe with stop no extra charge help 08702840625 comuk.220cm2 9ae new textbuddy chat 2 horny guys in ur area 4 just 25p free 2 receive search postcode or at gaytextbuddy.com. txt one name to 89693 free ringtone text first to 87131 for a poly or text get to 87131 for a true tone! help? 0845 2814032 16 after 1st free, tones are 3xå£150pw to eå£nd txt stop you can stop further club tones by replying \\\\stop mix\\\\\" see my-tone.com/enjoy. html for terms. club tones cost gbp4.50/week. mfl want to funk up ur fone with a weekly new tone reply tones2u 2 this text. www.ringtones.co.uk, the original n best. tones 3gbp network operator rates apply customer loyalty offer:the new nokia6650 mobile from only å£10 at txtauction! txt word: start to no: 81151 & get yours now! 4t&ctxt tc 150p/mtmsg urgent! call 09061749602 from landline. your complimentary 4* tenerife holiday or å£10,000 cash await collection sae t&cs box 528 hp20 1yf 150ppm 18+ do you realize that in about 40 years, we\\'ll have thousands of old ladies running around with tattoos? dont forget you can place as many free requests with 1stchoice.co.uk as you wish. for more information call 08707808226. mila, age23, blonde, new in uk. i look sex with uk guys. if u like fun with me. text mtalk to 69866.18 . 30pp/txt 1st 5free. å£1.50 increments. help08718728876 sunshine quiz! win a super sony dvd recorder if you canname the capital of australia? text mquiz to 82277. b get the official england poly ringtone or colour flag on yer mobile for tonights game! text tone or flag to 84199. optout txt eng stop box39822 w111wx å£1.50 loan for any purpose å£500 - å£75,000. homeowners + tenants welcome. have you been previously refused? we can still help. call free 0800 1956669 or text back \\'help\\' u have a secret admirer who is looking 2 make contact with u-find out who they r*reveal who thinks ur so special-call on 09058094599 marvel mobile play the official ultimate spider-man game (å£4.50) on ur mobile right now. text spider to 83338 for the game & we ll send u a free 8ball wallpaper congrats 2 mobile 3g videophones r yours. call 09063458130 now! videochat wid ur mates, play java games, dload polyph music, noline rentl. bx420. ip4. 5we. 150p new tones this week include: 1)mcfly-all ab.., 2) sara jorge-shock.. 3) will smith-switch.. to order follow instructions on next message ur awarded a city break and could win a å£200 summer shopping spree every wk. txt store to 88039.skilgme.tscs087147403231winawk!age16+å£1.50perwksub private! your 2003 account statement for <fone no> shows 800 un-redeemed s. i. m. points. call 08715203656 identifier code: 42049 expires 26/10/04 smsservices. for yourinclusive text credits, pls goto www.comuk.net login= 3qxj9 unsubscribe with stop, no extra charge. help 08702840625.comuk. 220-cm2 9ae bangbabes ur order is on the way. u should receive a service msg 2 download ur content. if u do not, goto wap. bangb. tv on ur mobile internet/service menu a å£400 xmas reward is waiting for you! our computer has randomly picked you from our loyal mobile customers to receive a å£400 reward. just call 09066380611  rct\\' thnq adrian for u text. rgds vatian for your chance to win a free bluetooth headset then simply reply back with \\\\adp\\\\\"\" dear voucher holder, to claim this weeks offer, at you pc please go to http://www.e-tlp.co.uk/expressoffer ts&cs apply. to stop texts, txt stop to 80062 sms. ac sptv: the new jersey devils and the detroit red wings play ice hockey. correct or incorrect? end? reply end sptv ur cash-balance is currently 500 pounds - to maximize ur cash-in now send go to 86688 only 150p/msg. cc: 08718720201 po box 114/14 tcr/w1 you are now unsubscribed all services. get tons of sexy babes or hunks straight to your phone! go to http://gotbabes.co.uk. no subscriptions. private! your 2003 account statement for 07808247860 shows 800 un-redeemed s. i. m. points. call 08719899229 identifier code: 40411 expires 06/11/04 please call 08712402972 immediately as there is an urgent message waiting for you bored housewives! chat n date now! 0871750.77.11! bt-national rate 10p/min only from landlines! congratulations ur awarded 500 of cd vouchers or 125gift guaranteed & free entry 2 100 wkly draw txt music to 87066 this msg is for your mobile content order it has been resent as previous attempt failed due to network error queries to customersqueries@netvision.uk.com you won\\'t believe it but it\\'s true. it\\'s incredible txts! reply g now to learn truly amazing things that will blow your mind. from o2fwd only 18p/txt call germany for only 1 pence per minute! call from a fixed line via access number 0844 861 85 85. no prepayment. direct access! www.telediscount.co.uk life has never been this much fun and great until you came in. you made it truly special for me. i won\\'t forget you! enjoy @ one gbp/sms adult 18 content your video will be with you shortly win: we have a winner! mr. t. foley won an ipod! more exciting prizes soon, so keep an eye on ur mobile or visit www.win-82050.co.uk freemsg:feelin kinda lnly hope u like 2 keep me company! jst got a cam moby wanna c my pic?txt or reply date to 82242 msg150p 2rcv hlp 08712317606 stop to 82242 want explicit sex in 30 secs? ring 02073162414 now! costs 20p/min gsex pobox 2667 wc1n 3xx free camera phones with linerental from 4.49/month with 750 cross ntwk mins. 1/2 price txt bundle deals also avble. call 08001950382 or call2optout/j mf u were outbid by simonwatson5120 on the shinco dvd plyr. 2 bid again, visit sms. ac/smsrewards 2 end bid notifications, reply end out u r subscribed 2 textcomp 250 wkly comp. 1st wk?s free question follows, subsequent wks charged@150p/msg.2 unsubscribe txt stop 2 84128,custcare 08712405020 hot live fantasies call now 08707500020 just 20p per min ntt ltd, po box 1327 croydon cr9 5wb 0870 is a national rate call yes! the only place in town to meet exciting adult singles is now in the uk. txt chat to 86688 now! 150p/msg. ur cash-balance is currently 500 pounds - to maximize ur cash-in now send collect to 83600 only 150p/msg. cc: 08718720201 po box 114/14 tcr/w1 send a logo 2 ur lover - 2 names joined by a heart. txt love name1 name2 mobno eg love adam eve 07123456789 to 87077 yahoo! pobox36504w45wq txtno 4 no ads 150p camera - you are awarded a sipix digital camera! call 09061221066 fromm landline. delivery within 28 days. u\\'ve been selected to stay in 1 of 250 top british hotels - for nothing! holiday valued at å£350! dial 08712300220 to claim - national rate call. bx526, sw73ss eastenders tv quiz. what flower does dot compare herself to? d= violet e= tulip f= lily txt d e or f to 84025 now 4 chance 2 win å£100 cash wkent/150p16+ no 1 polyphonic tone 4 ur mob every week! just txt pt2 to 87575. 1st tone free ! so get txtin now and tell ur friends. 150p/tone. 16 reply hl 4info promotion number: 8714714 - ur awarded a city break and could win a å£200 summer shopping spree every wk. txt store to 88039 . skilgme. tscs087147403231winawk!age16 å£1.50perwksub you have won a guaranteed å£1000 cash or a å£2000 prize. to claim yr prize call our customer service representative on 08714712379 between 10am-7pm cost 10p monthly password for wap. mobsi.com is 391784. use your wap phone not pc. freemsg: our records indicate you may be entitled to 3750 pounds for the accident you had. to claim for free reply with yes to this msg. to opt out text stop sms auction - a brand new nokia 7250 is up 4 auction today! auction is free 2 join & take part! txt nokia to 86021 now! hg/suite342/2lands row/w1j6hl todays voda numbers ending with 7634 are selected to receive a å£350 reward. if you have a match please call 08712300220 quoting claim code 7684 standard rates apply. 500 new mobiles from 2004, must go! txt: nokia to no: 89545 & collect yours today!from only å£1 www.4-tc.biz 2optout 087187262701.50gbp/mtmsg18 i don\\'t know u and u don\\'t know me. send chat to 86688 now and let\\'s find each other! only 150p/msg rcvd. hg/suite342/2lands/row/w1j6hl ldn. 18 years or over. freemsg hey there darling it\\'s been 3 week\\'s now and no word back! i\\'d like some fun you up for it still? tb ok! xxx std chgs to send, å£1.50 to rcv sunshine quiz wkly q! win a top sony dvd player if u know which country liverpool played in mid week? txt ansr to 82277. å£1.50 sp:tyrone we have new local dates in your area - lots of new people registered in your area. reply date to start now! 18 only www.flirtparty.us replys150 freemsg: 1-month unlimited free calls! activate smartcall txt: call to no: 68866. subscriptn3gbp/wk unlimited calls help: 08448714184 stop?txt stop landlineonly * free* polyphonic ringtone text super to 87131 to get your free poly tone of the week now! 16 sn pobox202 nr31 7zs subscription 450pw final chance! claim ur å£150 worth of discount vouchers today! text yes to 85023 now! savamob, member offers mobile! t cs savamob pobox84, m263uz. å£3.00 subs 16 congratulations you\\'ve won. you\\'re a winner in our august å£1000 prize draw. call 09066660100 now. prize code 2309. you won\\'t believe it but it\\'s true. it\\'s incredible txts! reply g now to learn truly amazing things that will blow your mind. from o2fwd only 18p/txt someone u know has asked our dating service 2 contact you! cant guess who? call 09058097189 now all will be revealed. pobox 6, ls15hb 150p  wanna have a laugh? try chit-chat on your mobile now! logon by txting the word: chat and send it to no: 8883 cm po box 4217 london w1a 6zf 16+ 118p/msg rcvd married local women looking for discreet action now! 5 real matches instantly to your phone. text match to 69969 msg cost 150p 2 stop txt stop bcmsfwc1n3xx wamma get laid?want real doggin locations sent direct to your mobile? join the uks largest dogging network. txt dogs to 69696 now!nyt. ec2a. 3lp å£1.50/msg. <forwarded from 21870000>hi - this is your mailbox messaging sms alert. you have 4 messages. you have 21 matches. please call back on 09056242159 to retrieve your messages and matches spook up your mob with a halloween collection of a logo & pic message plus a free eerie tone, txt card spook to 8007 zed 08701417012150p per logo/pic  win: we have a winner! mr. t. foley won an ipod! more exciting prizes soon, so keep an eye on ur mobile or visit www.win-82050.co.uk you have won a guaranteed å£200 award or even å£1000 cashto claim ur award call free on 08000407165 (18+) 2 stop getstop on 88222 php sms. ac sun0819 posts hello:\\\\you seem cool urgent! please call 09061743811 from landline. your abta complimentary 4* tenerife holiday or å£5000 cash await collection sae t&cs box 326 cw25wx 150ppm your free ringtone is waiting to be collected. simply text the password \\\\mix\\\\\" to 85069 to verify. get usher and britney. fml romantic paris. 2 nights, 2 flights from å£79 book now 4 next year. call 08704439680ts&cs apply. dear voucher holder, to claim this weeks offer, at your pc please go to http://www.wtlp.co.uk/text. ts&cs apply. you\\'ve won tkts to the euro2004 cup final or å£800 cash, to collect call 09058099801 b4190604, pobox 7876150ppm 4mths half price orange line rental & latest camera phones 4 free. had your phone 11mths ? call mobilesdirect free on 08000938767 to update now! or2stoptxt urgent! please call 09061743810 from landline. your abta complimentary 4* tenerife holiday or #5000 cash await collection sae t&cs box 326 cw25wx 150 ppm congratulations ur awarded 500 of cd vouchers or 125gift guaranteed & free entry 2 100 wkly draw txt music to 87066 tncs www.ldew.com1win150ppmx3age16 as a valued customer, i am pleased to advise you that following recent review of your mob no. you are awarded with a å£1500 bonus prize, call 09066368470 +449071512431 urgent! this is the 2nd attempt to contact u!u have won å£1250 call 09071512433 b4 050703 t&csbcm4235wc1n3xx. callcost 150ppm mobilesvary. maxå£7. 50 natalie (20/f) is inviting you to be her friend. reply yes-165 or no-165 see her: www.sms.ac/u/natalie2k9 stop? send stop frnd to 62468 double mins and txts 4 6months free bluetooth on orange. available on sony, nokia motorola phones. call mobileupd8 on 08000839402 or call2optout/n9dx urgent -call 09066649731from landline. your complimentary 4* ibiza holiday or å£10,000 cash await collection sae t&cs po box 434 sk3 8wp 150ppm 18+ had your mobile 11 months or more? u r entitled to update to the latest colour mobiles with camera for free! call the mobile update co free on 08002986030 hack chat. get backdoor entry into 121 chat rooms at a fraction of the cost. reply neo69 or call 09050280520, to subscribe 25p pm. dps, bcm box 8027 ldn, wc1n3xx thank you, winner notified by sms. good luck! no future marketing reply stop to 84122 customer services 08450542832 ur cash-balance is currently 500 pounds - to maximize ur cash-in now send cash to 86688 only 150p/msg. cc: 08708800282 hg/suite342/2lands row/w1j6hl okmail: dear dave this is your final notice to collect your 4* tenerife holiday or #5000 cash award! call 09061743806 from landline. tcs sae box326 cw25wx 150ppm customer service announcement. we recently tried to make a delivery to you but were unable to do so, please call 07090298926 to re-schedule. ref:9307622 cds 4u: congratulations ur awarded å£500 of cd gift vouchers or å£125 gift guaranteed & freeentry 2 å£100 wkly draw xt music to 87066 tncs www.ldew.com1win150ppmx3age16  this is the 2nd time we have tried 2 contact u. u have won the 750 pound prize. 2 claim is easy, call 08718726970 now! only 10p per min. bt-national-rate  sunshine quiz wkly q! win a top sony dvd player if u know which country the algarve is in? txt ansr to 82277. å£1.50 sp:tyrone 25p 4 alfie moon\\'s children in need song on ur mob. tell ur m8s. txt tone charity to 8007 for nokias or poly charity for polys: zed 08701417012 profit 2 charity. +123 congratulations - in this week\\'s competition draw u have won the å£1450 prize to claim just call 09050002311 b4280703. t&cs/stop sms 08718727868. over 18 only 150ppm great news! call freefone 08006344447 to claim your guaranteed å£1000 cash or å£2000 gift. speak to a live operator now! hot live fantasies call now 08707509020 just 20p per min ntt ltd, po box 1327 croydon cr9 5wb 0870..k refused a loan? secured or unsecured? can\\'t get credit? call free now 0800 195 6669 or text back \\'help\\' & we will! get a free mobile video player free movie. to collect text go to 89105. its free! extra films can be ordered t\\'s and c\\'s apply. 18 yrs only freemsg today\\'s the day if you are ready! i\\'m horny & live in your town. i love sex fun & games! netcollex ltd 08700621170150p per msg reply stop to end free entry into our å£250 weekly competition just text the word win to 80086 now. 18 t&c www.txttowin.co.uk free top ringtone -sub to weekly ringtone-get 1st week free-send subpoly to 81618-?3 per week-stop sms-08718727870 rock yr chik. get 100\\'s of filthy films &xxx pics on yr phone now. rply filth to 69669. saristar ltd, e14 9yt 08701752560. 450p per 5 days. stop2 cancel gr8 poly tones 4 all mobs direct 2u rply with poly title to 8007 eg poly breathe1 titles: crazyin, sleepingwith, finest, ymca :getzed.co.uk pobox365o4w45wq 300p sexy singles are waiting for you! text your age followed by your gender as wither m or f e.g.23f. for gay men text your age followed by a g. e.g.23g. sppok up ur mob with a halloween collection of nokia logo&pic message plus a free eerie tone, txt card spook to 8007 double mins & double txt & 1/2 price linerental on latest orange bluetooth mobiles. call mobileupd8 for the very latest offers. 08000839402 or call2optout/lf56 win a å£1000 cash prize or a prize worth å£5000 you have 1 new message. please call 08718738034. you are a winner u have been specially selected 2 receive å£1000 or a 4* holiday (flights inc) speak to a live operator 2 claim 0871277810910p/min (18+)  u have a secret admirer. reveal who thinks u r so special. call 09065174042. to opt out reply reveal stop. 1.50 per msg recd. cust care 07821230901 private! your 2004 account statement for 07742676969 shows 786 unredeemed bonus points. to claim call 08719180248 identifier code: 45239 expires cashbin.co.uk (get lots of cash this weekend!) www.cashbin.co.uk dear welcome to the weekend we have got our biggest and best ever cash give away!! these.. in the simpsons movie released in july 2007 name the band that died at the start of the film? a-green day, b-blue day, c-red day. (send a, b or c) 1st wk free! gr8 tones str8 2 u each wk. txt nokia on to 8007 for classic nokia tones or hit on to 8007 for polys. nokia/150p poly/200p 16+ free msg: single? find a partner in your area! 1000s of real people are waiting to chat now!send chat to 62220cncl send stopcs 08717890890å£1.50 per msg hi, the sexychat girls are waiting for you to text them. text now for a great night chatting. send stop to stop this service urgent!: your mobile no. was awarded a å£2,000 bonus caller prize on 02/09/03! this is our 2nd attempt to contact you! call 0871-872-9755 box95qu dear 0776xxxxxxx u\\'ve been invited to xchat. this is our final attempt to contact u! txt chat to 86688 150p/msgrcvdhg/suite342/2lands/row/w1j6hl ldn 18yrs december only! had your mobile 11mths+? you are entitled to update to the latest colour camera mobile for free! call the mobile update co free on 08002986906  todays vodafone numbers ending with 0089(my last four digits) are selected to received a å£350 award. if your number matches please call 09063442151 to claim your å£350 award are you unique enough? find out from 30th august. www.areyouunique.co.uk xclusive@clubsaisai 2morow 28/5 soiree speciale zouk with nichols from paris.free roses 2 all ladies !!! info: 07946746291/07880867867  welcome! please reply with your age and gender to begin. e.g 24m free entry into our å£250 weekly comp just send the word win to 80086 now. 18 t&c www.txttowin.co.uk filthy stories and girls waiting for your txt: call to no: 86888 & claim your reward of 3 hours talk time to use from your phone now! subscribe6gbp/mnth inc 3hrs 16 stop?txtstop www.gamb.tv dating:i have had two of these. only started after i sent a text to talk sport radio last week. any connection do you think or coincidence? latest news! police station toilet stolen, cops have nothing to go on! tbs/persolvo. been chasing us since sept forå£38 definitely not paying now thanks to your information. we will ignore them. kath. manchester. your chance to be on a reality fantasy show call now = 08707509020 just 20p per min ntt ltd, po box 1327 croydon cr9 5wb 0870 is a national = rate call. this message is brought to you by gmw ltd. and is not connected to the free game. get rayman golf 4 free from the o2 games arcade. 1st get ur games settings. reply post, then save & activ8. press 0 key for arcade. termsapply hi there, 2nights ur lucky night! uve been invited 2 xchat, the uks wildest chat! txt chat to 86688 now! 150p/msgrcvdhg/suite342/2lands/row/w1j6hl ldn 18yrs someone has contacted our dating service and entered your phone becausethey fancy you! to find out who it is call from a landline 09058098002. pobox1, w14rg 150p freemsg why haven\\'t you replied to my text? i\\'m randy, sexy, female and live local. luv to hear from u. netcollex ltd 08700621170150p per msg reply stop to end 88800 and 89034 are premium phone services call 08718711108 urgent! your mobile number *************** won a å£2000 bonus caller prize on 10/06/03! this is the 2nd attempt to reach you! call 09066368753 asap! box 97n7qp, 150ppm hi, this is mandy sullivan calling from hotmix fm...you are chosen to receive å£5000.00 in our easter prize draw.....please telephone 09041940223 to claim before 29/03/05 or your prize will be transferred to someone else.... you are a winner you have been specially selected to receive å£1000 cash or a å£2000 award. speak to a live operator to claim call 087147123779am-7pm. cost 10p you are chosen to receive a å£350 award! pls call claim number 09066364311 to collect your award which you are selected to receive as a valued mobile customer. dear voucher holder 2 claim your 1st class airport lounge passes when using your holiday voucher call 08704439680. when booking quote 1st class x 2 camera - you are awarded a sipix digital camera! call 09061221066 fromm landline. delivery within 28 days. 4mths half price orange line rental & latest camera phones 4 free. had your phone 11mths+? call mobilesdirect free on 08000938767 to update now! or2stoptxt t&cs enjoy the jamster videosound gold club with your credits for 2 new videosounds+2 logos+musicnews! get more fun from jamster.co.uk! 16+only help? call: 09701213186  sms services. for your inclusive text credits, pls goto www.comuk.net login= 3qxj9 unsubscribe with stop, no extra charge. help 08702840625.comuk. 220-cm2 9ae get your garden ready for summer with a free selection of summer bulbs and seeds worth å£33:50 only with the scotsman this saturday. to stop go2 notxt.co.uk urgent! your mobile number has been awarded with a å£2000 prize guaranteed. call 09061790121 from land line. claim 3030. valid 12hrs only 150ppm urgent! please call 09066612661 from your landline, your complimentary 4* lux costa del sol holiday or å£1000 cash await collection. ppm 150 sae t&cs james 28, eh74rr free ring tone just text \\\\polys\\\\\" to 87131. then every week get a new tone. 0870737910216yrs only å£1.50/wk.\" free message activate your 500 free text messages by replying to this message with the word free for terms & conditions, visit www.07781482378.com eastenders tv quiz. what flower does dot compare herself to? d= violet e= tulip f= lily txt d e or f to 84025 now 4 chance 2 win å£100 cash wkent/150p16+ gent! we are trying to contact you. last weekends draw shows that you won a å£1000 prize guaranteed. call 09064012160. claim code k52. valid 12hrs only. 150ppm  u\\x89ûªve bin awarded å£50 to play 4 instant cash. call 08715203028 to claim. every 9th player wins min å£50-å£500. optout 08718727870 sports fans - get the latest sports news str* 2 ur mobile 1 wk free plus a free tone txt sport on to 8007 www.getzed.co.uk 0870141701216+ norm 4txt/120p  how come it takes so little time for a child who is afraid of the dark to become a teenager who wants to stay out all night? lyricalladie(21/f) is inviting you to be her friend. reply yes-910 or no-910. see her: www.sms.ac/u/hmmross stop? send stop frnd to 62468 u have a secret admirer who is looking 2 make contact with u-find out who they r*reveal who thinks ur so special-call on 09058094565 free for 1st week! no1 nokia tone 4 ur mob every week just txt nokia to 8007 get txting and tell ur mates www.getzed.co.uk pobox 36504 w45wq norm150p/tone 16+ well done! your 4* costa del sol holiday or å£5000 await collection. call 09050090044 now toclaim. sae, tcs, pobox334, stockport, sk38xh, costå£1.50/pm, max10mins bloomberg -message center +447797706009 why wait? apply for your future http://careers. bloomberg.com guess what! somebody you know secretly fancies you! wanna find out who it is? give us a call on 09065394514 from landline datebox1282essexcm61xn 150p/min 18 thanks for your subscription to ringtone uk your mobile will be charged å£5/month please confirm by replying yes or no. if you reply no you will not be charged you will be receiving this week\\'s triple echo ringtone shortly. enjoy it! congratulations - thanks to a good friend u have won the å£2,000 xmas prize. 2 claim is easy, just call 08712103738 now! only 10p per minute. bt-national-rate fantasy football is back on your tv. go to sky gamestar on sky active and play å£250k dream team. scoring starts on saturday, so register now!sky opt out to 88088 todays voda numbers ending 1225 are selected to receive a å£50award. if you have a match please call 08712300220 quoting claim code 3100 standard rates app  you have won! as a valued vodafone customer our computer has picked you to win a å£150 prize. to collect is easy. just call 09061743386 '"
      ]
     },
     "execution_count": 26,
     "metadata": {},
     "output_type": "execute_result"
    }
   ],
   "source": [
    "from collections import Counter \n",
    "all_strings = ''\n",
    "\n",
    "for elem in np.arange(len(spam)):\n",
    "    curr_string = spam['raw text'][elem]\n",
    "    all_strings = all_strings + ' ' + curr_string\n",
    "    \n",
    "all_strings"
   ]
  },
  {
   "cell_type": "code",
   "execution_count": 27,
   "metadata": {},
   "outputs": [
    {
     "data": {
      "text/plain": [
       "[('to', 629),\n",
       " ('a', 340),\n",
       " ('call', 306),\n",
       " ('your', 244),\n",
       " ('you', 227),\n",
       " ('the', 191),\n",
       " ('for', 187),\n",
       " ('or', 168),\n",
       " ('free', 163),\n",
       " ('2', 150),\n",
       " ('is', 137),\n",
       " ('ur', 132),\n",
       " ('on', 126),\n",
       " ('txt', 125),\n",
       " ('have', 122),\n",
       " ('from', 121),\n",
       " ('and', 116),\n",
       " ('text', 102),\n",
       " ('claim', 101),\n",
       " ('u', 101),\n",
       " ('mobile', 98),\n",
       " ('with', 97),\n",
       " ('&', 93),\n",
       " ('reply', 92),\n",
       " ('of', 86),\n",
       " ('4', 84),\n",
       " ('this', 83),\n",
       " ('now', 82),\n",
       " ('stop', 81),\n",
       " ('get', 78),\n",
       " ('our', 77),\n",
       " ('are', 73),\n",
       " ('just', 71),\n",
       " ('in', 65),\n",
       " ('now!', 65),\n",
       " ('only', 63),\n",
       " ('won', 62),\n",
       " ('new', 62),\n",
       " ('send', 59),\n",
       " ('nokia', 57),\n",
       " ('prize', 54),\n",
       " ('cash', 52),\n",
       " ('win', 51),\n",
       " ('please', 50),\n",
       " ('-', 49),\n",
       " ('contact', 48),\n",
       " ('be', 45),\n",
       " ('we', 43),\n",
       " ('service', 42),\n",
       " ('out', 42),\n",
       " ('will', 40),\n",
       " ('per', 40),\n",
       " ('urgent!', 38),\n",
       " ('chat', 38),\n",
       " ('been', 37),\n",
       " ('tone', 37),\n",
       " ('draw', 34),\n",
       " ('who', 34),\n",
       " ('latest', 33),\n",
       " ('awarded', 32),\n",
       " ('by', 32),\n",
       " ('customer', 32),\n",
       " ('receive', 31),\n",
       " ('å£1000', 31),\n",
       " ('i', 30),\n",
       " ('if', 30),\n",
       " ('every', 30),\n",
       " ('phone', 30),\n",
       " ('no', 30),\n",
       " ('150ppm', 29),\n",
       " ('shows', 28),\n",
       " ('as', 28),\n",
       " ('1', 28),\n",
       " ('box', 28),\n",
       " ('number', 27),\n",
       " ('week', 27),\n",
       " ('guaranteed', 27),\n",
       " ('po', 27),\n",
       " ('has', 26),\n",
       " ('go', 26),\n",
       " ('holiday', 26),\n",
       " ('want', 25),\n",
       " ('1st', 25),\n",
       " ('all', 25),\n",
       " ('entry', 25),\n",
       " ('it', 25),\n",
       " ('video', 24),\n",
       " ('can', 24),\n",
       " ('16', 24),\n",
       " ('more', 24),\n",
       " ('at', 24),\n",
       " ('live', 24),\n",
       " ('that', 24),\n",
       " ('message', 23),\n",
       " ('you!', 23),\n",
       " ('tones', 23),\n",
       " ('ringtone', 23),\n",
       " ('camera', 23),\n",
       " ('not', 22),\n",
       " ('chance', 22)]"
      ]
     },
     "execution_count": 27,
     "metadata": {},
     "output_type": "execute_result"
    }
   ],
   "source": [
    "split = all_strings.split()\n",
    "counter = Counter(split)\n",
    "most_common_spam = counter.most_common(100)\n",
    "most_common_spam"
   ]
  },
  {
   "cell_type": "code",
   "execution_count": 28,
   "metadata": {},
   "outputs": [
    {
     "data": {
      "text/plain": [
       "['to',\n",
       " 'a',\n",
       " 'call',\n",
       " 'your',\n",
       " 'you',\n",
       " 'the',\n",
       " 'for',\n",
       " 'or',\n",
       " 'free',\n",
       " '2',\n",
       " 'is',\n",
       " 'ur',\n",
       " 'on',\n",
       " 'txt',\n",
       " 'have',\n",
       " 'from',\n",
       " 'and',\n",
       " 'text',\n",
       " 'claim',\n",
       " 'u',\n",
       " 'mobile',\n",
       " 'with',\n",
       " '&',\n",
       " 'reply',\n",
       " 'of',\n",
       " '4',\n",
       " 'this',\n",
       " 'now',\n",
       " 'stop',\n",
       " 'get',\n",
       " 'our',\n",
       " 'are',\n",
       " 'just',\n",
       " 'in',\n",
       " 'now!',\n",
       " 'only',\n",
       " 'won',\n",
       " 'new',\n",
       " 'send',\n",
       " 'nokia',\n",
       " 'prize',\n",
       " 'cash',\n",
       " 'win',\n",
       " 'please',\n",
       " '-',\n",
       " 'contact',\n",
       " 'be',\n",
       " 'we',\n",
       " 'service',\n",
       " 'out',\n",
       " 'will',\n",
       " 'per',\n",
       " 'urgent!',\n",
       " 'chat',\n",
       " 'been',\n",
       " 'tone',\n",
       " 'draw',\n",
       " 'who',\n",
       " 'latest',\n",
       " 'awarded',\n",
       " 'by',\n",
       " 'customer',\n",
       " 'receive',\n",
       " 'å£1000',\n",
       " 'i',\n",
       " 'if',\n",
       " 'every',\n",
       " 'phone',\n",
       " 'no',\n",
       " '150ppm',\n",
       " 'shows',\n",
       " 'as',\n",
       " '1',\n",
       " 'box',\n",
       " 'number',\n",
       " 'week',\n",
       " 'guaranteed',\n",
       " 'po',\n",
       " 'has',\n",
       " 'go',\n",
       " 'holiday',\n",
       " 'want',\n",
       " '1st',\n",
       " 'all',\n",
       " 'entry',\n",
       " 'it',\n",
       " 'video',\n",
       " 'can',\n",
       " '16',\n",
       " 'more',\n",
       " 'at',\n",
       " 'live',\n",
       " 'that',\n",
       " 'message',\n",
       " 'you!',\n",
       " 'tones',\n",
       " 'ringtone',\n",
       " 'camera',\n",
       " 'not',\n",
       " 'chance']"
      ]
     },
     "execution_count": 28,
     "metadata": {},
     "output_type": "execute_result"
    }
   ],
   "source": [
    "words_spam = []\n",
    "for elem in np.arange(100):\n",
    "    words_spam.append(most_common_spam[elem][0])\n",
    "words_spam"
   ]
  },
  {
   "cell_type": "markdown",
   "metadata": {},
   "source": [
    "Repeat for ham emails."
   ]
  },
  {
   "cell_type": "code",
   "execution_count": 29,
   "metadata": {},
   "outputs": [
    {
     "data": {
      "text/plain": [
       "['i',\n",
       " 'you',\n",
       " 'to',\n",
       " 'the',\n",
       " 'a',\n",
       " 'u',\n",
       " 'and',\n",
       " 'in',\n",
       " 'my',\n",
       " 'is',\n",
       " 'me',\n",
       " 'of',\n",
       " 'for',\n",
       " 'that',\n",
       " 'it',\n",
       " 'have',\n",
       " 'your',\n",
       " 'but',\n",
       " 'so',\n",
       " 'are',\n",
       " 'not',\n",
       " 'at',\n",
       " 'on',\n",
       " \"i'm\",\n",
       " 'can',\n",
       " 'if',\n",
       " 'do',\n",
       " 'will',\n",
       " 'be',\n",
       " 'we',\n",
       " 'get',\n",
       " 'just',\n",
       " '&lt;#&gt;',\n",
       " 'when',\n",
       " '2',\n",
       " 'with',\n",
       " 'up',\n",
       " 'ur',\n",
       " 'what',\n",
       " 'how',\n",
       " 'go',\n",
       " 'all',\n",
       " 'got',\n",
       " '.',\n",
       " 'or',\n",
       " 'like',\n",
       " 'no',\n",
       " 'was',\n",
       " 'call',\n",
       " 'this',\n",
       " 'come',\n",
       " 'am',\n",
       " 'its',\n",
       " 'know',\n",
       " '?',\n",
       " 'then',\n",
       " 'good',\n",
       " 'he',\n",
       " \"i'll\",\n",
       " 'out',\n",
       " '...',\n",
       " 'going',\n",
       " 'ok',\n",
       " '4',\n",
       " 'from',\n",
       " 'love',\n",
       " 'about',\n",
       " 'now',\n",
       " 'time',\n",
       " 'need',\n",
       " 'want',\n",
       " 'still',\n",
       " 'one',\n",
       " 'as',\n",
       " 'r',\n",
       " 'dont',\n",
       " 'there',\n",
       " 'n',\n",
       " \"don't\",\n",
       " 'see',\n",
       " 'send',\n",
       " 'think',\n",
       " 'by',\n",
       " 'she',\n",
       " 'only',\n",
       " 'tell',\n",
       " 'home',\n",
       " 'they',\n",
       " 'some',\n",
       " 'did',\n",
       " 'ì_',\n",
       " 'back',\n",
       " 'take',\n",
       " 'any',\n",
       " 'where',\n",
       " 'hi',\n",
       " 'hope',\n",
       " 'day',\n",
       " 'him',\n",
       " 'me.']"
      ]
     },
     "execution_count": 29,
     "metadata": {},
     "output_type": "execute_result"
    }
   ],
   "source": [
    "ham.reset_index(inplace = True)\n",
    "from collections import Counter \n",
    "all_strings_ham = ''\n",
    "\n",
    "for elem in np.arange(len(ham)):\n",
    "    curr_string = ham['raw text'][elem]\n",
    "    all_strings_ham = all_strings_ham + ' ' + curr_string\n",
    "    \n",
    "split_ham = all_strings_ham.split()\n",
    "counter_ham = Counter(split_ham)\n",
    "most_common_ham = counter_ham.most_common(100)\n",
    "\n",
    "words_ham = []\n",
    "for elem in np.arange(100):\n",
    "    words_ham.append(most_common_ham[elem][0])\n",
    "words_ham"
   ]
  },
  {
   "cell_type": "code",
   "execution_count": 30,
   "metadata": {},
   "outputs": [
    {
     "data": {
      "text/plain": [
       "[True,\n",
       " True,\n",
       " True,\n",
       " True,\n",
       " True,\n",
       " True,\n",
       " True,\n",
       " True,\n",
       " False,\n",
       " True,\n",
       " True,\n",
       " True,\n",
       " True,\n",
       " False,\n",
       " True,\n",
       " True,\n",
       " True,\n",
       " False,\n",
       " False,\n",
       " True,\n",
       " False,\n",
       " True,\n",
       " False,\n",
       " False,\n",
       " True,\n",
       " True,\n",
       " True,\n",
       " True,\n",
       " False,\n",
       " True,\n",
       " False,\n",
       " True,\n",
       " True,\n",
       " True,\n",
       " False,\n",
       " True,\n",
       " False,\n",
       " False,\n",
       " True,\n",
       " False,\n",
       " False,\n",
       " False,\n",
       " False,\n",
       " False,\n",
       " False,\n",
       " False,\n",
       " True,\n",
       " True,\n",
       " False,\n",
       " True,\n",
       " True,\n",
       " False,\n",
       " False,\n",
       " False,\n",
       " False,\n",
       " False,\n",
       " False,\n",
       " False,\n",
       " False,\n",
       " False,\n",
       " True,\n",
       " False,\n",
       " False,\n",
       " False,\n",
       " True,\n",
       " True,\n",
       " False,\n",
       " False,\n",
       " True,\n",
       " False,\n",
       " False,\n",
       " True,\n",
       " False,\n",
       " False,\n",
       " False,\n",
       " False,\n",
       " False,\n",
       " False,\n",
       " False,\n",
       " True,\n",
       " False,\n",
       " True,\n",
       " False,\n",
       " True,\n",
       " False,\n",
       " True,\n",
       " False,\n",
       " True,\n",
       " False,\n",
       " False,\n",
       " True,\n",
       " False,\n",
       " True,\n",
       " False,\n",
       " False,\n",
       " False,\n",
       " False,\n",
       " False,\n",
       " True,\n",
       " False]"
      ]
     },
     "execution_count": 30,
     "metadata": {},
     "output_type": "execute_result"
    }
   ],
   "source": [
    "in_spam = []\n",
    "for elem in np.arange(100):\n",
    "    in_spam.append(words_spam[elem] in words_ham)\n",
    "in_spam"
   ]
  },
  {
   "cell_type": "code",
   "execution_count": 31,
   "metadata": {},
   "outputs": [
    {
     "data": {
      "text/plain": [
       "[8,\n",
       " 13,\n",
       " 17,\n",
       " 18,\n",
       " 20,\n",
       " 22,\n",
       " 23,\n",
       " 28,\n",
       " 30,\n",
       " 34,\n",
       " 36,\n",
       " 37,\n",
       " 39,\n",
       " 40,\n",
       " 41,\n",
       " 42,\n",
       " 43,\n",
       " 44,\n",
       " 45,\n",
       " 48,\n",
       " 51,\n",
       " 52,\n",
       " 53,\n",
       " 54,\n",
       " 55,\n",
       " 56,\n",
       " 57,\n",
       " 58,\n",
       " 59,\n",
       " 61,\n",
       " 62,\n",
       " 63,\n",
       " 66,\n",
       " 67,\n",
       " 69,\n",
       " 70,\n",
       " 72,\n",
       " 73,\n",
       " 74,\n",
       " 75,\n",
       " 76,\n",
       " 77,\n",
       " 78,\n",
       " 80,\n",
       " 82,\n",
       " 84,\n",
       " 86,\n",
       " 88,\n",
       " 89,\n",
       " 91,\n",
       " 93,\n",
       " 94,\n",
       " 95,\n",
       " 96,\n",
       " 97,\n",
       " 99]"
      ]
     },
     "execution_count": 31,
     "metadata": {},
     "output_type": "execute_result"
    }
   ],
   "source": [
    "not_spam_index = []\n",
    "for elem in np.arange(100):\n",
    "    if in_spam[elem] == False:\n",
    "        not_spam_index.append(elem)\n",
    "not_spam_index"
   ]
  },
  {
   "cell_type": "code",
   "execution_count": 32,
   "metadata": {},
   "outputs": [
    {
     "data": {
      "text/plain": [
       "['free',\n",
       " 'txt',\n",
       " 'text',\n",
       " 'claim',\n",
       " 'mobile',\n",
       " '&',\n",
       " 'reply',\n",
       " 'stop',\n",
       " 'our',\n",
       " 'now!',\n",
       " 'won',\n",
       " 'new',\n",
       " 'nokia',\n",
       " 'prize',\n",
       " 'cash',\n",
       " 'win',\n",
       " 'please',\n",
       " '-',\n",
       " 'contact',\n",
       " 'service',\n",
       " 'per',\n",
       " 'urgent!',\n",
       " 'chat',\n",
       " 'been',\n",
       " 'tone',\n",
       " 'draw',\n",
       " 'who',\n",
       " 'latest',\n",
       " 'awarded',\n",
       " 'customer',\n",
       " 'receive',\n",
       " 'å£1000',\n",
       " 'every',\n",
       " 'phone',\n",
       " '150ppm',\n",
       " 'shows',\n",
       " '1',\n",
       " 'box',\n",
       " 'number',\n",
       " 'week',\n",
       " 'guaranteed',\n",
       " 'po',\n",
       " 'has',\n",
       " 'holiday',\n",
       " '1st',\n",
       " 'entry',\n",
       " 'video',\n",
       " '16',\n",
       " 'more',\n",
       " 'live',\n",
       " 'message',\n",
       " 'you!',\n",
       " 'tones',\n",
       " 'ringtone',\n",
       " 'camera',\n",
       " 'chance']"
      ]
     },
     "execution_count": 32,
     "metadata": {},
     "output_type": "execute_result"
    }
   ],
   "source": [
    "spam_only = []\n",
    "for elem in np.arange(len(not_spam_index)):\n",
    "    curr = not_spam_index[elem]\n",
    "    spam_only.append(words_spam[curr])\n",
    "spam_only"
   ]
  },
  {
   "cell_type": "markdown",
   "metadata": {},
   "source": [
    "Choose words from the list above that does not appear in the top 100 most common words in ham email. "
   ]
  },
  {
   "cell_type": "code",
   "execution_count": 33,
   "metadata": {},
   "outputs": [],
   "source": [
    "better_words2 = ['free', 'claim', 'mobile', '&', 'reply', 'stop', 'now!', 'won', 'nokia', 'prize', 'cash', 'win', 'contact',\n",
    "                 'service', 'urgent!', 'guaranteed', 'please', 'draw', 'awarded', 'customer', 'holiday', '150ppm', '1st',\n",
    "                'å£1000', 'you!', 'camera', 'chance', 'po', 'shows', 'latest', 'box', 'shows']"
   ]
  },
  {
   "cell_type": "code",
   "execution_count": 34,
   "metadata": {},
   "outputs": [
    {
     "name": "stdout",
     "output_type": "stream",
     "text": [
      "Training Accuracy1:  0.9523334662943758\n"
     ]
    }
   ],
   "source": [
    "X_train1 = words_in_texts(better_words2, train['raw text']) \n",
    "Y_train1 = np.array(train['spam'])\n",
    "\n",
    "model1 =  LogisticRegression()\n",
    "model1.fit(X_train1, Y_train1)\n",
    "\n",
    "training_accuracy1 = model1.score(X_train1, Y_train1)\n",
    "print(\"Training Accuracy1: \", training_accuracy1)"
   ]
  },
  {
   "cell_type": "code",
   "execution_count": 35,
   "metadata": {},
   "outputs": [],
   "source": [
    "Y_train_hat = model1.predict(X_train1)\n",
    "\n",
    "true_positive = 0\n",
    "true_negative = 0\n",
    "false_positive = 0\n",
    "false_negative = 0\n",
    "length_y = np.arange(len(Y_train_hat))\n",
    "\n",
    "for index in length_y:\n",
    "    if (Y_train1[index] == 1) and (Y_train1[index] == Y_train_hat[index]):\n",
    "        true_positive += 1\n",
    "    if (Y_train1[index] == 0) and (Y_train1[index] == Y_train_hat[index]):\n",
    "        true_negative += 1\n",
    "    if (Y_train1[index] == 1) and (Y_train1[index] != Y_train_hat[index]):\n",
    "        false_negative += 1\n",
    "    if (Y_train1[index] == 0) and (Y_train1[index] != Y_train_hat[index]):\n",
    "        false_positive += 1\n",
    "\n",
    "logistic_predictor_precision = true_positive / (true_positive + false_positive)\n",
    "logistic_predictor_recall = true_positive / (true_positive + false_negative)\n",
    "logistic_predictor_far = false_positive / (false_positive + true_negative)"
   ]
  },
  {
   "cell_type": "code",
   "execution_count": 36,
   "metadata": {},
   "outputs": [
    {
     "name": "stdout",
     "output_type": "stream",
     "text": [
      "Precision: 0.9216061185468452\n",
      "Recall: 0.7088235294117647\n",
      "False-alarm Rate: 0.009460083064143978\n"
     ]
    }
   ],
   "source": [
    "print(\"Precision: \" + str(logistic_predictor_precision))\n",
    "print(\"Recall: \" + str(logistic_predictor_recall))\n",
    "print(\"False-alarm Rate: \" + str(logistic_predictor_far))"
   ]
  },
  {
   "cell_type": "markdown",
   "metadata": {},
   "source": [
    "Our precision, recall, and false-alarm rate scores are all pretty good. We can move on to check if our model is good with our test. "
   ]
  },
  {
   "cell_type": "code",
   "execution_count": 37,
   "metadata": {},
   "outputs": [
    {
     "name": "stdout",
     "output_type": "stream",
     "text": [
      "Test Accuracy:  0.9623655913978495\n"
     ]
    }
   ],
   "source": [
    "X_test = words_in_texts(better_words2, test['raw text']) \n",
    "Y_test = np.array(test['spam'])\n",
    "\n",
    "test_accuracy = model1.score(X_test, Y_test)\n",
    "print(\"Test Accuracy: \", test_accuracy)"
   ]
  },
  {
   "cell_type": "code",
   "execution_count": 38,
   "metadata": {},
   "outputs": [
    {
     "name": "stdout",
     "output_type": "stream",
     "text": [
      "Precision: 0.9791666666666666\n",
      "Recall: 0.7014925373134329\n",
      "False-alarm Rate: 0.002036659877800407\n"
     ]
    }
   ],
   "source": [
    "Y_test_hat = model1.predict(X_test)\n",
    "\n",
    "true_positive = 0\n",
    "true_negative = 0\n",
    "false_positive = 0\n",
    "false_negative = 0\n",
    "length_y = np.arange(len(Y_test_hat))\n",
    "\n",
    "for index in length_y:\n",
    "    if (Y_test[index] == 1) and (Y_test[index] == Y_test_hat[index]):\n",
    "        true_positive += 1\n",
    "    if (Y_test[index] == 0) and (Y_test[index] == Y_test_hat[index]):\n",
    "        true_negative += 1\n",
    "    if (Y_test[index] == 1) and (Y_test[index] != Y_test_hat[index]):\n",
    "        false_negative += 1\n",
    "    if (Y_test[index] == 0) and (Y_test[index] != Y_test_hat[index]):\n",
    "        false_positive += 1\n",
    "\n",
    "logistic_predictor_precision = true_positive / (true_positive + false_positive)\n",
    "logistic_predictor_recall = true_positive / (true_positive + false_negative)\n",
    "logistic_predictor_far = false_positive / (false_positive + true_negative)\n",
    "\n",
    "print(\"Precision: \" + str(logistic_predictor_precision))\n",
    "print(\"Recall: \" + str(logistic_predictor_recall))\n",
    "print(\"False-alarm Rate: \" + str(logistic_predictor_far))"
   ]
  },
  {
   "cell_type": "markdown",
   "metadata": {},
   "source": [
    "Thus, our model does fairly well."
   ]
  },
  {
   "cell_type": "code",
   "execution_count": null,
   "metadata": {},
   "outputs": [],
   "source": []
  }
 ],
 "metadata": {
  "kernelspec": {
   "display_name": "Python 3",
   "language": "python",
   "name": "python3"
  },
  "language_info": {
   "codemirror_mode": {
    "name": "ipython",
    "version": 3
   },
   "file_extension": ".py",
   "mimetype": "text/x-python",
   "name": "python",
   "nbconvert_exporter": "python",
   "pygments_lexer": "ipython3",
   "version": "3.8.5"
  }
 },
 "nbformat": 4,
 "nbformat_minor": 4
}
